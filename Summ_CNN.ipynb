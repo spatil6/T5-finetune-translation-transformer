{
  "nbformat": 4,
  "nbformat_minor": 0,
  "metadata": {
    "colab": {
      "name": "Summ_CNN.ipynb",
      "provenance": [],
      "collapsed_sections": []
    },
    "kernelspec": {
      "name": "python3",
      "display_name": "Python 3"
    },
    "widgets": {
      "application/vnd.jupyter.widget-state+json": {
        "0f1b4afa33d04b009227b43a41b6aa86": {
          "model_module": "@jupyter-widgets/controls",
          "model_name": "HBoxModel",
          "state": {
            "_view_name": "HBoxView",
            "_dom_classes": [],
            "_model_name": "HBoxModel",
            "_view_module": "@jupyter-widgets/controls",
            "_model_module_version": "1.5.0",
            "_view_count": null,
            "_view_module_version": "1.5.0",
            "box_style": "",
            "layout": "IPY_MODEL_02da32431f754dfd88634d319733ae87",
            "_model_module": "@jupyter-widgets/controls",
            "children": [
              "IPY_MODEL_4d5b71b2c40f4c85b15a3a8510192706",
              "IPY_MODEL_8fbc432809d044ce9f8b16b6d220c063"
            ]
          }
        },
        "02da32431f754dfd88634d319733ae87": {
          "model_module": "@jupyter-widgets/base",
          "model_name": "LayoutModel",
          "state": {
            "_view_name": "LayoutView",
            "grid_template_rows": null,
            "right": null,
            "justify_content": null,
            "_view_module": "@jupyter-widgets/base",
            "overflow": null,
            "_model_module_version": "1.2.0",
            "_view_count": null,
            "flex_flow": null,
            "width": null,
            "min_width": null,
            "border": null,
            "align_items": null,
            "bottom": null,
            "_model_module": "@jupyter-widgets/base",
            "top": null,
            "grid_column": null,
            "overflow_y": null,
            "overflow_x": null,
            "grid_auto_flow": null,
            "grid_area": null,
            "grid_template_columns": null,
            "flex": null,
            "_model_name": "LayoutModel",
            "justify_items": null,
            "grid_row": null,
            "max_height": null,
            "align_content": null,
            "visibility": null,
            "align_self": null,
            "height": null,
            "min_height": null,
            "padding": null,
            "grid_auto_rows": null,
            "grid_gap": null,
            "max_width": null,
            "order": null,
            "_view_module_version": "1.2.0",
            "grid_template_areas": null,
            "object_position": null,
            "object_fit": null,
            "grid_auto_columns": null,
            "margin": null,
            "display": null,
            "left": null
          }
        },
        "4d5b71b2c40f4c85b15a3a8510192706": {
          "model_module": "@jupyter-widgets/controls",
          "model_name": "FloatProgressModel",
          "state": {
            "_view_name": "ProgressView",
            "style": "IPY_MODEL_00c5eda3b08e4debb58acfe5a0fa51c0",
            "_dom_classes": [],
            "description": "Dl Completed...: 100%",
            "_model_name": "FloatProgressModel",
            "bar_style": "success",
            "max": 1,
            "_view_module": "@jupyter-widgets/controls",
            "_model_module_version": "1.5.0",
            "value": 1,
            "_view_count": null,
            "_view_module_version": "1.5.0",
            "orientation": "horizontal",
            "min": 0,
            "description_tooltip": null,
            "_model_module": "@jupyter-widgets/controls",
            "layout": "IPY_MODEL_86a3cd225ecb429281d9b95d641a7892"
          }
        },
        "8fbc432809d044ce9f8b16b6d220c063": {
          "model_module": "@jupyter-widgets/controls",
          "model_name": "HTMLModel",
          "state": {
            "_view_name": "HTMLView",
            "style": "IPY_MODEL_2ae5746229eb463b8f1633cc611649ce",
            "_dom_classes": [],
            "description": "",
            "_model_name": "HTMLModel",
            "placeholder": "​",
            "_view_module": "@jupyter-widgets/controls",
            "_model_module_version": "1.5.0",
            "value": " 5/5 [01:25&lt;00:00, 17.00s/ url]",
            "_view_count": null,
            "_view_module_version": "1.5.0",
            "description_tooltip": null,
            "_model_module": "@jupyter-widgets/controls",
            "layout": "IPY_MODEL_b15bc18ea9254ce9a2ad45a62e6ec21b"
          }
        },
        "00c5eda3b08e4debb58acfe5a0fa51c0": {
          "model_module": "@jupyter-widgets/controls",
          "model_name": "ProgressStyleModel",
          "state": {
            "_view_name": "StyleView",
            "_model_name": "ProgressStyleModel",
            "description_width": "initial",
            "_view_module": "@jupyter-widgets/base",
            "_model_module_version": "1.5.0",
            "_view_count": null,
            "_view_module_version": "1.2.0",
            "bar_color": null,
            "_model_module": "@jupyter-widgets/controls"
          }
        },
        "86a3cd225ecb429281d9b95d641a7892": {
          "model_module": "@jupyter-widgets/base",
          "model_name": "LayoutModel",
          "state": {
            "_view_name": "LayoutView",
            "grid_template_rows": null,
            "right": null,
            "justify_content": null,
            "_view_module": "@jupyter-widgets/base",
            "overflow": null,
            "_model_module_version": "1.2.0",
            "_view_count": null,
            "flex_flow": null,
            "width": null,
            "min_width": null,
            "border": null,
            "align_items": null,
            "bottom": null,
            "_model_module": "@jupyter-widgets/base",
            "top": null,
            "grid_column": null,
            "overflow_y": null,
            "overflow_x": null,
            "grid_auto_flow": null,
            "grid_area": null,
            "grid_template_columns": null,
            "flex": null,
            "_model_name": "LayoutModel",
            "justify_items": null,
            "grid_row": null,
            "max_height": null,
            "align_content": null,
            "visibility": null,
            "align_self": null,
            "height": null,
            "min_height": null,
            "padding": null,
            "grid_auto_rows": null,
            "grid_gap": null,
            "max_width": null,
            "order": null,
            "_view_module_version": "1.2.0",
            "grid_template_areas": null,
            "object_position": null,
            "object_fit": null,
            "grid_auto_columns": null,
            "margin": null,
            "display": null,
            "left": null
          }
        },
        "2ae5746229eb463b8f1633cc611649ce": {
          "model_module": "@jupyter-widgets/controls",
          "model_name": "DescriptionStyleModel",
          "state": {
            "_view_name": "StyleView",
            "_model_name": "DescriptionStyleModel",
            "description_width": "",
            "_view_module": "@jupyter-widgets/base",
            "_model_module_version": "1.5.0",
            "_view_count": null,
            "_view_module_version": "1.2.0",
            "_model_module": "@jupyter-widgets/controls"
          }
        },
        "b15bc18ea9254ce9a2ad45a62e6ec21b": {
          "model_module": "@jupyter-widgets/base",
          "model_name": "LayoutModel",
          "state": {
            "_view_name": "LayoutView",
            "grid_template_rows": null,
            "right": null,
            "justify_content": null,
            "_view_module": "@jupyter-widgets/base",
            "overflow": null,
            "_model_module_version": "1.2.0",
            "_view_count": null,
            "flex_flow": null,
            "width": null,
            "min_width": null,
            "border": null,
            "align_items": null,
            "bottom": null,
            "_model_module": "@jupyter-widgets/base",
            "top": null,
            "grid_column": null,
            "overflow_y": null,
            "overflow_x": null,
            "grid_auto_flow": null,
            "grid_area": null,
            "grid_template_columns": null,
            "flex": null,
            "_model_name": "LayoutModel",
            "justify_items": null,
            "grid_row": null,
            "max_height": null,
            "align_content": null,
            "visibility": null,
            "align_self": null,
            "height": null,
            "min_height": null,
            "padding": null,
            "grid_auto_rows": null,
            "grid_gap": null,
            "max_width": null,
            "order": null,
            "_view_module_version": "1.2.0",
            "grid_template_areas": null,
            "object_position": null,
            "object_fit": null,
            "grid_auto_columns": null,
            "margin": null,
            "display": null,
            "left": null
          }
        },
        "e0d12c5594094e95843258fd58ad638b": {
          "model_module": "@jupyter-widgets/controls",
          "model_name": "HBoxModel",
          "state": {
            "_view_name": "HBoxView",
            "_dom_classes": [],
            "_model_name": "HBoxModel",
            "_view_module": "@jupyter-widgets/controls",
            "_model_module_version": "1.5.0",
            "_view_count": null,
            "_view_module_version": "1.5.0",
            "box_style": "",
            "layout": "IPY_MODEL_57866d17b35c41dd84a4fa0b8200ee92",
            "_model_module": "@jupyter-widgets/controls",
            "children": [
              "IPY_MODEL_9c581effb4c24fbe92457c5db32cbe6d",
              "IPY_MODEL_ca50da47833d40cfb16bfed0656ceb11"
            ]
          }
        },
        "57866d17b35c41dd84a4fa0b8200ee92": {
          "model_module": "@jupyter-widgets/base",
          "model_name": "LayoutModel",
          "state": {
            "_view_name": "LayoutView",
            "grid_template_rows": null,
            "right": null,
            "justify_content": null,
            "_view_module": "@jupyter-widgets/base",
            "overflow": null,
            "_model_module_version": "1.2.0",
            "_view_count": null,
            "flex_flow": null,
            "width": null,
            "min_width": null,
            "border": null,
            "align_items": null,
            "bottom": null,
            "_model_module": "@jupyter-widgets/base",
            "top": null,
            "grid_column": null,
            "overflow_y": null,
            "overflow_x": null,
            "grid_auto_flow": null,
            "grid_area": null,
            "grid_template_columns": null,
            "flex": null,
            "_model_name": "LayoutModel",
            "justify_items": null,
            "grid_row": null,
            "max_height": null,
            "align_content": null,
            "visibility": null,
            "align_self": null,
            "height": null,
            "min_height": null,
            "padding": null,
            "grid_auto_rows": null,
            "grid_gap": null,
            "max_width": null,
            "order": null,
            "_view_module_version": "1.2.0",
            "grid_template_areas": null,
            "object_position": null,
            "object_fit": null,
            "grid_auto_columns": null,
            "margin": null,
            "display": null,
            "left": null
          }
        },
        "9c581effb4c24fbe92457c5db32cbe6d": {
          "model_module": "@jupyter-widgets/controls",
          "model_name": "FloatProgressModel",
          "state": {
            "_view_name": "ProgressView",
            "style": "IPY_MODEL_4a2e505862a44180b1a125728270fe12",
            "_dom_classes": [],
            "description": "Dl Size...: ",
            "_model_name": "FloatProgressModel",
            "bar_style": "success",
            "max": 1,
            "_view_module": "@jupyter-widgets/controls",
            "_model_module_version": "1.5.0",
            "value": 1,
            "_view_count": null,
            "_view_module_version": "1.5.0",
            "orientation": "horizontal",
            "min": 0,
            "description_tooltip": null,
            "_model_module": "@jupyter-widgets/controls",
            "layout": "IPY_MODEL_d89f945973864538b82c5a3bbd6e90cd"
          }
        },
        "ca50da47833d40cfb16bfed0656ceb11": {
          "model_module": "@jupyter-widgets/controls",
          "model_name": "HTMLModel",
          "state": {
            "_view_name": "HTMLView",
            "style": "IPY_MODEL_efb3420206324a8da8cb73d596168d36",
            "_dom_classes": [],
            "description": "",
            "_model_name": "HTMLModel",
            "placeholder": "​",
            "_view_module": "@jupyter-widgets/controls",
            "_model_module_version": "1.5.0",
            "value": " 557/? [01:24&lt;00:00,  6.55 MiB/s]",
            "_view_count": null,
            "_view_module_version": "1.5.0",
            "description_tooltip": null,
            "_model_module": "@jupyter-widgets/controls",
            "layout": "IPY_MODEL_7e1fb3186f18477895e9e5b7dc2c0939"
          }
        },
        "4a2e505862a44180b1a125728270fe12": {
          "model_module": "@jupyter-widgets/controls",
          "model_name": "ProgressStyleModel",
          "state": {
            "_view_name": "StyleView",
            "_model_name": "ProgressStyleModel",
            "description_width": "initial",
            "_view_module": "@jupyter-widgets/base",
            "_model_module_version": "1.5.0",
            "_view_count": null,
            "_view_module_version": "1.2.0",
            "bar_color": null,
            "_model_module": "@jupyter-widgets/controls"
          }
        },
        "d89f945973864538b82c5a3bbd6e90cd": {
          "model_module": "@jupyter-widgets/base",
          "model_name": "LayoutModel",
          "state": {
            "_view_name": "LayoutView",
            "grid_template_rows": null,
            "right": null,
            "justify_content": null,
            "_view_module": "@jupyter-widgets/base",
            "overflow": null,
            "_model_module_version": "1.2.0",
            "_view_count": null,
            "flex_flow": null,
            "width": null,
            "min_width": null,
            "border": null,
            "align_items": null,
            "bottom": null,
            "_model_module": "@jupyter-widgets/base",
            "top": null,
            "grid_column": null,
            "overflow_y": null,
            "overflow_x": null,
            "grid_auto_flow": null,
            "grid_area": null,
            "grid_template_columns": null,
            "flex": null,
            "_model_name": "LayoutModel",
            "justify_items": null,
            "grid_row": null,
            "max_height": null,
            "align_content": null,
            "visibility": null,
            "align_self": null,
            "height": null,
            "min_height": null,
            "padding": null,
            "grid_auto_rows": null,
            "grid_gap": null,
            "max_width": null,
            "order": null,
            "_view_module_version": "1.2.0",
            "grid_template_areas": null,
            "object_position": null,
            "object_fit": null,
            "grid_auto_columns": null,
            "margin": null,
            "display": null,
            "left": null
          }
        },
        "efb3420206324a8da8cb73d596168d36": {
          "model_module": "@jupyter-widgets/controls",
          "model_name": "DescriptionStyleModel",
          "state": {
            "_view_name": "StyleView",
            "_model_name": "DescriptionStyleModel",
            "description_width": "",
            "_view_module": "@jupyter-widgets/base",
            "_model_module_version": "1.5.0",
            "_view_count": null,
            "_view_module_version": "1.2.0",
            "_model_module": "@jupyter-widgets/controls"
          }
        },
        "7e1fb3186f18477895e9e5b7dc2c0939": {
          "model_module": "@jupyter-widgets/base",
          "model_name": "LayoutModel",
          "state": {
            "_view_name": "LayoutView",
            "grid_template_rows": null,
            "right": null,
            "justify_content": null,
            "_view_module": "@jupyter-widgets/base",
            "overflow": null,
            "_model_module_version": "1.2.0",
            "_view_count": null,
            "flex_flow": null,
            "width": null,
            "min_width": null,
            "border": null,
            "align_items": null,
            "bottom": null,
            "_model_module": "@jupyter-widgets/base",
            "top": null,
            "grid_column": null,
            "overflow_y": null,
            "overflow_x": null,
            "grid_auto_flow": null,
            "grid_area": null,
            "grid_template_columns": null,
            "flex": null,
            "_model_name": "LayoutModel",
            "justify_items": null,
            "grid_row": null,
            "max_height": null,
            "align_content": null,
            "visibility": null,
            "align_self": null,
            "height": null,
            "min_height": null,
            "padding": null,
            "grid_auto_rows": null,
            "grid_gap": null,
            "max_width": null,
            "order": null,
            "_view_module_version": "1.2.0",
            "grid_template_areas": null,
            "object_position": null,
            "object_fit": null,
            "grid_auto_columns": null,
            "margin": null,
            "display": null,
            "left": null
          }
        },
        "f8beec3ee8af4e65924e79dea1b7099c": {
          "model_module": "@jupyter-widgets/controls",
          "model_name": "HBoxModel",
          "state": {
            "_view_name": "HBoxView",
            "_dom_classes": [],
            "_model_name": "HBoxModel",
            "_view_module": "@jupyter-widgets/controls",
            "_model_module_version": "1.5.0",
            "_view_count": null,
            "_view_module_version": "1.5.0",
            "box_style": "",
            "layout": "IPY_MODEL_fdf0b70c29fd44b6a90f8366539f89be",
            "_model_module": "@jupyter-widgets/controls",
            "children": [
              "IPY_MODEL_d84b223d2a34443fb6dda3c4d5e5831d",
              "IPY_MODEL_a2c9bc91a4fe4fc880e4a5cf413e2b31"
            ]
          }
        },
        "fdf0b70c29fd44b6a90f8366539f89be": {
          "model_module": "@jupyter-widgets/base",
          "model_name": "LayoutModel",
          "state": {
            "_view_name": "LayoutView",
            "grid_template_rows": null,
            "right": null,
            "justify_content": null,
            "_view_module": "@jupyter-widgets/base",
            "overflow": null,
            "_model_module_version": "1.2.0",
            "_view_count": null,
            "flex_flow": null,
            "width": null,
            "min_width": null,
            "border": null,
            "align_items": null,
            "bottom": null,
            "_model_module": "@jupyter-widgets/base",
            "top": null,
            "grid_column": null,
            "overflow_y": null,
            "overflow_x": null,
            "grid_auto_flow": null,
            "grid_area": null,
            "grid_template_columns": null,
            "flex": null,
            "_model_name": "LayoutModel",
            "justify_items": null,
            "grid_row": null,
            "max_height": null,
            "align_content": null,
            "visibility": null,
            "align_self": null,
            "height": null,
            "min_height": null,
            "padding": null,
            "grid_auto_rows": null,
            "grid_gap": null,
            "max_width": null,
            "order": null,
            "_view_module_version": "1.2.0",
            "grid_template_areas": null,
            "object_position": null,
            "object_fit": null,
            "grid_auto_columns": null,
            "margin": null,
            "display": null,
            "left": null
          }
        },
        "d84b223d2a34443fb6dda3c4d5e5831d": {
          "model_module": "@jupyter-widgets/controls",
          "model_name": "FloatProgressModel",
          "state": {
            "_view_name": "ProgressView",
            "style": "IPY_MODEL_60bdf513f209432fb3a36ab5af5af50d",
            "_dom_classes": [],
            "description": "Extraction completed...: 100%",
            "_model_name": "FloatProgressModel",
            "bar_style": "success",
            "max": 1,
            "_view_module": "@jupyter-widgets/controls",
            "_model_module_version": "1.5.0",
            "value": 1,
            "_view_count": null,
            "_view_module_version": "1.5.0",
            "orientation": "horizontal",
            "min": 0,
            "description_tooltip": null,
            "_model_module": "@jupyter-widgets/controls",
            "layout": "IPY_MODEL_9d7b65dbee264939859083be19b06a95"
          }
        },
        "a2c9bc91a4fe4fc880e4a5cf413e2b31": {
          "model_module": "@jupyter-widgets/controls",
          "model_name": "HTMLModel",
          "state": {
            "_view_name": "HTMLView",
            "style": "IPY_MODEL_92794f4d2a1549aaac6ecda32e49eaa1",
            "_dom_classes": [],
            "description": "",
            "_model_name": "HTMLModel",
            "placeholder": "​",
            "_view_module": "@jupyter-widgets/controls",
            "_model_module_version": "1.5.0",
            "value": " 2/2 [01:24&lt;00:00, 42.48s/ file]",
            "_view_count": null,
            "_view_module_version": "1.5.0",
            "description_tooltip": null,
            "_model_module": "@jupyter-widgets/controls",
            "layout": "IPY_MODEL_03bd65e494fc490dbdbcb2c128ad8dbe"
          }
        },
        "60bdf513f209432fb3a36ab5af5af50d": {
          "model_module": "@jupyter-widgets/controls",
          "model_name": "ProgressStyleModel",
          "state": {
            "_view_name": "StyleView",
            "_model_name": "ProgressStyleModel",
            "description_width": "initial",
            "_view_module": "@jupyter-widgets/base",
            "_model_module_version": "1.5.0",
            "_view_count": null,
            "_view_module_version": "1.2.0",
            "bar_color": null,
            "_model_module": "@jupyter-widgets/controls"
          }
        },
        "9d7b65dbee264939859083be19b06a95": {
          "model_module": "@jupyter-widgets/base",
          "model_name": "LayoutModel",
          "state": {
            "_view_name": "LayoutView",
            "grid_template_rows": null,
            "right": null,
            "justify_content": null,
            "_view_module": "@jupyter-widgets/base",
            "overflow": null,
            "_model_module_version": "1.2.0",
            "_view_count": null,
            "flex_flow": null,
            "width": null,
            "min_width": null,
            "border": null,
            "align_items": null,
            "bottom": null,
            "_model_module": "@jupyter-widgets/base",
            "top": null,
            "grid_column": null,
            "overflow_y": null,
            "overflow_x": null,
            "grid_auto_flow": null,
            "grid_area": null,
            "grid_template_columns": null,
            "flex": null,
            "_model_name": "LayoutModel",
            "justify_items": null,
            "grid_row": null,
            "max_height": null,
            "align_content": null,
            "visibility": null,
            "align_self": null,
            "height": null,
            "min_height": null,
            "padding": null,
            "grid_auto_rows": null,
            "grid_gap": null,
            "max_width": null,
            "order": null,
            "_view_module_version": "1.2.0",
            "grid_template_areas": null,
            "object_position": null,
            "object_fit": null,
            "grid_auto_columns": null,
            "margin": null,
            "display": null,
            "left": null
          }
        },
        "92794f4d2a1549aaac6ecda32e49eaa1": {
          "model_module": "@jupyter-widgets/controls",
          "model_name": "DescriptionStyleModel",
          "state": {
            "_view_name": "StyleView",
            "_model_name": "DescriptionStyleModel",
            "description_width": "",
            "_view_module": "@jupyter-widgets/base",
            "_model_module_version": "1.5.0",
            "_view_count": null,
            "_view_module_version": "1.2.0",
            "_model_module": "@jupyter-widgets/controls"
          }
        },
        "03bd65e494fc490dbdbcb2c128ad8dbe": {
          "model_module": "@jupyter-widgets/base",
          "model_name": "LayoutModel",
          "state": {
            "_view_name": "LayoutView",
            "grid_template_rows": null,
            "right": null,
            "justify_content": null,
            "_view_module": "@jupyter-widgets/base",
            "overflow": null,
            "_model_module_version": "1.2.0",
            "_view_count": null,
            "flex_flow": null,
            "width": null,
            "min_width": null,
            "border": null,
            "align_items": null,
            "bottom": null,
            "_model_module": "@jupyter-widgets/base",
            "top": null,
            "grid_column": null,
            "overflow_y": null,
            "overflow_x": null,
            "grid_auto_flow": null,
            "grid_area": null,
            "grid_template_columns": null,
            "flex": null,
            "_model_name": "LayoutModel",
            "justify_items": null,
            "grid_row": null,
            "max_height": null,
            "align_content": null,
            "visibility": null,
            "align_self": null,
            "height": null,
            "min_height": null,
            "padding": null,
            "grid_auto_rows": null,
            "grid_gap": null,
            "max_width": null,
            "order": null,
            "_view_module_version": "1.2.0",
            "grid_template_areas": null,
            "object_position": null,
            "object_fit": null,
            "grid_auto_columns": null,
            "margin": null,
            "display": null,
            "left": null
          }
        },
        "59ebc2a2f01644a4ba208e4c59096158": {
          "model_module": "@jupyter-widgets/controls",
          "model_name": "HBoxModel",
          "state": {
            "_view_name": "HBoxView",
            "_dom_classes": [],
            "_model_name": "HBoxModel",
            "_view_module": "@jupyter-widgets/controls",
            "_model_module_version": "1.5.0",
            "_view_count": null,
            "_view_module_version": "1.5.0",
            "box_style": "",
            "layout": "IPY_MODEL_352f2e073c5b4265bf23ea563efc3b27",
            "_model_module": "@jupyter-widgets/controls",
            "children": [
              "IPY_MODEL_bb4d56ab59834be29a6ce0b7d99f0225",
              "IPY_MODEL_773cbb0615114aaf84b9ee54b1ce2181"
            ]
          }
        },
        "352f2e073c5b4265bf23ea563efc3b27": {
          "model_module": "@jupyter-widgets/base",
          "model_name": "LayoutModel",
          "state": {
            "_view_name": "LayoutView",
            "grid_template_rows": null,
            "right": null,
            "justify_content": null,
            "_view_module": "@jupyter-widgets/base",
            "overflow": null,
            "_model_module_version": "1.2.0",
            "_view_count": null,
            "flex_flow": null,
            "width": null,
            "min_width": null,
            "border": null,
            "align_items": null,
            "bottom": null,
            "_model_module": "@jupyter-widgets/base",
            "top": null,
            "grid_column": null,
            "overflow_y": null,
            "overflow_x": null,
            "grid_auto_flow": null,
            "grid_area": null,
            "grid_template_columns": null,
            "flex": null,
            "_model_name": "LayoutModel",
            "justify_items": null,
            "grid_row": null,
            "max_height": null,
            "align_content": null,
            "visibility": null,
            "align_self": null,
            "height": null,
            "min_height": null,
            "padding": null,
            "grid_auto_rows": null,
            "grid_gap": null,
            "max_width": null,
            "order": null,
            "_view_module_version": "1.2.0",
            "grid_template_areas": null,
            "object_position": null,
            "object_fit": null,
            "grid_auto_columns": null,
            "margin": null,
            "display": null,
            "left": null
          }
        },
        "bb4d56ab59834be29a6ce0b7d99f0225": {
          "model_module": "@jupyter-widgets/controls",
          "model_name": "FloatProgressModel",
          "state": {
            "_view_name": "ProgressView",
            "style": "IPY_MODEL_56c71b1b67484453b0a463b1a095477b",
            "_dom_classes": [],
            "description": "",
            "_model_name": "FloatProgressModel",
            "bar_style": "info",
            "max": 1,
            "_view_module": "@jupyter-widgets/controls",
            "_model_module_version": "1.5.0",
            "value": 1,
            "_view_count": null,
            "_view_module_version": "1.5.0",
            "orientation": "horizontal",
            "min": 0,
            "description_tooltip": null,
            "_model_module": "@jupyter-widgets/controls",
            "layout": "IPY_MODEL_1deb7d5dda094ea9a76b8741efb9117d"
          }
        },
        "773cbb0615114aaf84b9ee54b1ce2181": {
          "model_module": "@jupyter-widgets/controls",
          "model_name": "HTMLModel",
          "state": {
            "_view_name": "HTMLView",
            "style": "IPY_MODEL_370686201ad14387938545e553741d90",
            "_dom_classes": [],
            "description": "",
            "_model_name": "HTMLModel",
            "placeholder": "​",
            "_view_module": "@jupyter-widgets/controls",
            "_model_module_version": "1.5.0",
            "value": " 287113/0 [03:07&lt;00:00, 1510.35 examples/s]",
            "_view_count": null,
            "_view_module_version": "1.5.0",
            "description_tooltip": null,
            "_model_module": "@jupyter-widgets/controls",
            "layout": "IPY_MODEL_ea3e2a9d91684546831bcd3bd3eda85f"
          }
        },
        "56c71b1b67484453b0a463b1a095477b": {
          "model_module": "@jupyter-widgets/controls",
          "model_name": "ProgressStyleModel",
          "state": {
            "_view_name": "StyleView",
            "_model_name": "ProgressStyleModel",
            "description_width": "initial",
            "_view_module": "@jupyter-widgets/base",
            "_model_module_version": "1.5.0",
            "_view_count": null,
            "_view_module_version": "1.2.0",
            "bar_color": null,
            "_model_module": "@jupyter-widgets/controls"
          }
        },
        "1deb7d5dda094ea9a76b8741efb9117d": {
          "model_module": "@jupyter-widgets/base",
          "model_name": "LayoutModel",
          "state": {
            "_view_name": "LayoutView",
            "grid_template_rows": null,
            "right": null,
            "justify_content": null,
            "_view_module": "@jupyter-widgets/base",
            "overflow": null,
            "_model_module_version": "1.2.0",
            "_view_count": null,
            "flex_flow": null,
            "width": null,
            "min_width": null,
            "border": null,
            "align_items": null,
            "bottom": null,
            "_model_module": "@jupyter-widgets/base",
            "top": null,
            "grid_column": null,
            "overflow_y": null,
            "overflow_x": null,
            "grid_auto_flow": null,
            "grid_area": null,
            "grid_template_columns": null,
            "flex": null,
            "_model_name": "LayoutModel",
            "justify_items": null,
            "grid_row": null,
            "max_height": null,
            "align_content": null,
            "visibility": null,
            "align_self": null,
            "height": null,
            "min_height": null,
            "padding": null,
            "grid_auto_rows": null,
            "grid_gap": null,
            "max_width": null,
            "order": null,
            "_view_module_version": "1.2.0",
            "grid_template_areas": null,
            "object_position": null,
            "object_fit": null,
            "grid_auto_columns": null,
            "margin": null,
            "display": null,
            "left": null
          }
        },
        "370686201ad14387938545e553741d90": {
          "model_module": "@jupyter-widgets/controls",
          "model_name": "DescriptionStyleModel",
          "state": {
            "_view_name": "StyleView",
            "_model_name": "DescriptionStyleModel",
            "description_width": "",
            "_view_module": "@jupyter-widgets/base",
            "_model_module_version": "1.5.0",
            "_view_count": null,
            "_view_module_version": "1.2.0",
            "_model_module": "@jupyter-widgets/controls"
          }
        },
        "ea3e2a9d91684546831bcd3bd3eda85f": {
          "model_module": "@jupyter-widgets/base",
          "model_name": "LayoutModel",
          "state": {
            "_view_name": "LayoutView",
            "grid_template_rows": null,
            "right": null,
            "justify_content": null,
            "_view_module": "@jupyter-widgets/base",
            "overflow": null,
            "_model_module_version": "1.2.0",
            "_view_count": null,
            "flex_flow": null,
            "width": null,
            "min_width": null,
            "border": null,
            "align_items": null,
            "bottom": null,
            "_model_module": "@jupyter-widgets/base",
            "top": null,
            "grid_column": null,
            "overflow_y": null,
            "overflow_x": null,
            "grid_auto_flow": null,
            "grid_area": null,
            "grid_template_columns": null,
            "flex": null,
            "_model_name": "LayoutModel",
            "justify_items": null,
            "grid_row": null,
            "max_height": null,
            "align_content": null,
            "visibility": null,
            "align_self": null,
            "height": null,
            "min_height": null,
            "padding": null,
            "grid_auto_rows": null,
            "grid_gap": null,
            "max_width": null,
            "order": null,
            "_view_module_version": "1.2.0",
            "grid_template_areas": null,
            "object_position": null,
            "object_fit": null,
            "grid_auto_columns": null,
            "margin": null,
            "display": null,
            "left": null
          }
        },
        "0720d78f21dc46dabea81f0d1e8e3ebc": {
          "model_module": "@jupyter-widgets/controls",
          "model_name": "HBoxModel",
          "state": {
            "_view_name": "HBoxView",
            "_dom_classes": [],
            "_model_name": "HBoxModel",
            "_view_module": "@jupyter-widgets/controls",
            "_model_module_version": "1.5.0",
            "_view_count": null,
            "_view_module_version": "1.5.0",
            "box_style": "",
            "layout": "IPY_MODEL_21711462ae1a4e4cbe9d332ce88064b6",
            "_model_module": "@jupyter-widgets/controls",
            "children": [
              "IPY_MODEL_5460d13abb8b492791840bc0c66bd81f",
              "IPY_MODEL_a899f1fbc4e54c3b9da59848797cd45a"
            ]
          }
        },
        "21711462ae1a4e4cbe9d332ce88064b6": {
          "model_module": "@jupyter-widgets/base",
          "model_name": "LayoutModel",
          "state": {
            "_view_name": "LayoutView",
            "grid_template_rows": null,
            "right": null,
            "justify_content": null,
            "_view_module": "@jupyter-widgets/base",
            "overflow": null,
            "_model_module_version": "1.2.0",
            "_view_count": null,
            "flex_flow": null,
            "width": null,
            "min_width": null,
            "border": null,
            "align_items": null,
            "bottom": null,
            "_model_module": "@jupyter-widgets/base",
            "top": null,
            "grid_column": null,
            "overflow_y": null,
            "overflow_x": null,
            "grid_auto_flow": null,
            "grid_area": null,
            "grid_template_columns": null,
            "flex": null,
            "_model_name": "LayoutModel",
            "justify_items": null,
            "grid_row": null,
            "max_height": null,
            "align_content": null,
            "visibility": null,
            "align_self": null,
            "height": null,
            "min_height": null,
            "padding": null,
            "grid_auto_rows": null,
            "grid_gap": null,
            "max_width": null,
            "order": null,
            "_view_module_version": "1.2.0",
            "grid_template_areas": null,
            "object_position": null,
            "object_fit": null,
            "grid_auto_columns": null,
            "margin": null,
            "display": null,
            "left": null
          }
        },
        "5460d13abb8b492791840bc0c66bd81f": {
          "model_module": "@jupyter-widgets/controls",
          "model_name": "FloatProgressModel",
          "state": {
            "_view_name": "ProgressView",
            "style": "IPY_MODEL_02ab03479c7e464abb6b074c4288dc2b",
            "_dom_classes": [],
            "description": "100%",
            "_model_name": "FloatProgressModel",
            "bar_style": "danger",
            "max": 287113,
            "_view_module": "@jupyter-widgets/controls",
            "_model_module_version": "1.5.0",
            "value": 285802,
            "_view_count": null,
            "_view_module_version": "1.5.0",
            "orientation": "horizontal",
            "min": 0,
            "description_tooltip": null,
            "_model_module": "@jupyter-widgets/controls",
            "layout": "IPY_MODEL_a6af181817154445a0801d9c4e0f3d58"
          }
        },
        "a899f1fbc4e54c3b9da59848797cd45a": {
          "model_module": "@jupyter-widgets/controls",
          "model_name": "HTMLModel",
          "state": {
            "_view_name": "HTMLView",
            "style": "IPY_MODEL_eb2b67f3308c418b9629635b2877e864",
            "_dom_classes": [],
            "description": "",
            "_model_name": "HTMLModel",
            "placeholder": "​",
            "_view_module": "@jupyter-widgets/controls",
            "_model_module_version": "1.5.0",
            "value": " 285802/287113 [00:06&lt;00:00, 47936.23 examples/s]",
            "_view_count": null,
            "_view_module_version": "1.5.0",
            "description_tooltip": null,
            "_model_module": "@jupyter-widgets/controls",
            "layout": "IPY_MODEL_59bd10394f084ebebff86108fab5195e"
          }
        },
        "02ab03479c7e464abb6b074c4288dc2b": {
          "model_module": "@jupyter-widgets/controls",
          "model_name": "ProgressStyleModel",
          "state": {
            "_view_name": "StyleView",
            "_model_name": "ProgressStyleModel",
            "description_width": "initial",
            "_view_module": "@jupyter-widgets/base",
            "_model_module_version": "1.5.0",
            "_view_count": null,
            "_view_module_version": "1.2.0",
            "bar_color": null,
            "_model_module": "@jupyter-widgets/controls"
          }
        },
        "a6af181817154445a0801d9c4e0f3d58": {
          "model_module": "@jupyter-widgets/base",
          "model_name": "LayoutModel",
          "state": {
            "_view_name": "LayoutView",
            "grid_template_rows": null,
            "right": null,
            "justify_content": null,
            "_view_module": "@jupyter-widgets/base",
            "overflow": null,
            "_model_module_version": "1.2.0",
            "_view_count": null,
            "flex_flow": null,
            "width": null,
            "min_width": null,
            "border": null,
            "align_items": null,
            "bottom": null,
            "_model_module": "@jupyter-widgets/base",
            "top": null,
            "grid_column": null,
            "overflow_y": null,
            "overflow_x": null,
            "grid_auto_flow": null,
            "grid_area": null,
            "grid_template_columns": null,
            "flex": null,
            "_model_name": "LayoutModel",
            "justify_items": null,
            "grid_row": null,
            "max_height": null,
            "align_content": null,
            "visibility": null,
            "align_self": null,
            "height": null,
            "min_height": null,
            "padding": null,
            "grid_auto_rows": null,
            "grid_gap": null,
            "max_width": null,
            "order": null,
            "_view_module_version": "1.2.0",
            "grid_template_areas": null,
            "object_position": null,
            "object_fit": null,
            "grid_auto_columns": null,
            "margin": null,
            "display": null,
            "left": null
          }
        },
        "eb2b67f3308c418b9629635b2877e864": {
          "model_module": "@jupyter-widgets/controls",
          "model_name": "DescriptionStyleModel",
          "state": {
            "_view_name": "StyleView",
            "_model_name": "DescriptionStyleModel",
            "description_width": "",
            "_view_module": "@jupyter-widgets/base",
            "_model_module_version": "1.5.0",
            "_view_count": null,
            "_view_module_version": "1.2.0",
            "_model_module": "@jupyter-widgets/controls"
          }
        },
        "59bd10394f084ebebff86108fab5195e": {
          "model_module": "@jupyter-widgets/base",
          "model_name": "LayoutModel",
          "state": {
            "_view_name": "LayoutView",
            "grid_template_rows": null,
            "right": null,
            "justify_content": null,
            "_view_module": "@jupyter-widgets/base",
            "overflow": null,
            "_model_module_version": "1.2.0",
            "_view_count": null,
            "flex_flow": null,
            "width": null,
            "min_width": null,
            "border": null,
            "align_items": null,
            "bottom": null,
            "_model_module": "@jupyter-widgets/base",
            "top": null,
            "grid_column": null,
            "overflow_y": null,
            "overflow_x": null,
            "grid_auto_flow": null,
            "grid_area": null,
            "grid_template_columns": null,
            "flex": null,
            "_model_name": "LayoutModel",
            "justify_items": null,
            "grid_row": null,
            "max_height": null,
            "align_content": null,
            "visibility": null,
            "align_self": null,
            "height": null,
            "min_height": null,
            "padding": null,
            "grid_auto_rows": null,
            "grid_gap": null,
            "max_width": null,
            "order": null,
            "_view_module_version": "1.2.0",
            "grid_template_areas": null,
            "object_position": null,
            "object_fit": null,
            "grid_auto_columns": null,
            "margin": null,
            "display": null,
            "left": null
          }
        },
        "d570d5eebe1d4719aecd9aaf4215646c": {
          "model_module": "@jupyter-widgets/controls",
          "model_name": "HBoxModel",
          "state": {
            "_view_name": "HBoxView",
            "_dom_classes": [],
            "_model_name": "HBoxModel",
            "_view_module": "@jupyter-widgets/controls",
            "_model_module_version": "1.5.0",
            "_view_count": null,
            "_view_module_version": "1.5.0",
            "box_style": "",
            "layout": "IPY_MODEL_799580975f2747c6ba4b048e6f7407a6",
            "_model_module": "@jupyter-widgets/controls",
            "children": [
              "IPY_MODEL_792019e9863a4a71874415b9c56f5ad0",
              "IPY_MODEL_12229deaaf3044bc962a187dfc5295ba"
            ]
          }
        },
        "799580975f2747c6ba4b048e6f7407a6": {
          "model_module": "@jupyter-widgets/base",
          "model_name": "LayoutModel",
          "state": {
            "_view_name": "LayoutView",
            "grid_template_rows": null,
            "right": null,
            "justify_content": null,
            "_view_module": "@jupyter-widgets/base",
            "overflow": null,
            "_model_module_version": "1.2.0",
            "_view_count": null,
            "flex_flow": null,
            "width": null,
            "min_width": null,
            "border": null,
            "align_items": null,
            "bottom": null,
            "_model_module": "@jupyter-widgets/base",
            "top": null,
            "grid_column": null,
            "overflow_y": null,
            "overflow_x": null,
            "grid_auto_flow": null,
            "grid_area": null,
            "grid_template_columns": null,
            "flex": null,
            "_model_name": "LayoutModel",
            "justify_items": null,
            "grid_row": null,
            "max_height": null,
            "align_content": null,
            "visibility": null,
            "align_self": null,
            "height": null,
            "min_height": null,
            "padding": null,
            "grid_auto_rows": null,
            "grid_gap": null,
            "max_width": null,
            "order": null,
            "_view_module_version": "1.2.0",
            "grid_template_areas": null,
            "object_position": null,
            "object_fit": null,
            "grid_auto_columns": null,
            "margin": null,
            "display": null,
            "left": null
          }
        },
        "792019e9863a4a71874415b9c56f5ad0": {
          "model_module": "@jupyter-widgets/controls",
          "model_name": "FloatProgressModel",
          "state": {
            "_view_name": "ProgressView",
            "style": "IPY_MODEL_4622a597059d4e6b8166da867d4d146e",
            "_dom_classes": [],
            "description": "",
            "_model_name": "FloatProgressModel",
            "bar_style": "info",
            "max": 1,
            "_view_module": "@jupyter-widgets/controls",
            "_model_module_version": "1.5.0",
            "value": 1,
            "_view_count": null,
            "_view_module_version": "1.5.0",
            "orientation": "horizontal",
            "min": 0,
            "description_tooltip": null,
            "_model_module": "@jupyter-widgets/controls",
            "layout": "IPY_MODEL_50efc42d52064dfba57b8cb9c186d678"
          }
        },
        "12229deaaf3044bc962a187dfc5295ba": {
          "model_module": "@jupyter-widgets/controls",
          "model_name": "HTMLModel",
          "state": {
            "_view_name": "HTMLView",
            "style": "IPY_MODEL_b706b4338c6746bfa793dd1ae8b1fb1f",
            "_dom_classes": [],
            "description": "",
            "_model_name": "HTMLModel",
            "placeholder": "​",
            "_view_module": "@jupyter-widgets/controls",
            "_model_module_version": "1.5.0",
            "value": " 13368/0 [00:08&lt;00:00, 1659.48 examples/s]",
            "_view_count": null,
            "_view_module_version": "1.5.0",
            "description_tooltip": null,
            "_model_module": "@jupyter-widgets/controls",
            "layout": "IPY_MODEL_30d4a3dd2e964386bb87163f7df60474"
          }
        },
        "4622a597059d4e6b8166da867d4d146e": {
          "model_module": "@jupyter-widgets/controls",
          "model_name": "ProgressStyleModel",
          "state": {
            "_view_name": "StyleView",
            "_model_name": "ProgressStyleModel",
            "description_width": "initial",
            "_view_module": "@jupyter-widgets/base",
            "_model_module_version": "1.5.0",
            "_view_count": null,
            "_view_module_version": "1.2.0",
            "bar_color": null,
            "_model_module": "@jupyter-widgets/controls"
          }
        },
        "50efc42d52064dfba57b8cb9c186d678": {
          "model_module": "@jupyter-widgets/base",
          "model_name": "LayoutModel",
          "state": {
            "_view_name": "LayoutView",
            "grid_template_rows": null,
            "right": null,
            "justify_content": null,
            "_view_module": "@jupyter-widgets/base",
            "overflow": null,
            "_model_module_version": "1.2.0",
            "_view_count": null,
            "flex_flow": null,
            "width": null,
            "min_width": null,
            "border": null,
            "align_items": null,
            "bottom": null,
            "_model_module": "@jupyter-widgets/base",
            "top": null,
            "grid_column": null,
            "overflow_y": null,
            "overflow_x": null,
            "grid_auto_flow": null,
            "grid_area": null,
            "grid_template_columns": null,
            "flex": null,
            "_model_name": "LayoutModel",
            "justify_items": null,
            "grid_row": null,
            "max_height": null,
            "align_content": null,
            "visibility": null,
            "align_self": null,
            "height": null,
            "min_height": null,
            "padding": null,
            "grid_auto_rows": null,
            "grid_gap": null,
            "max_width": null,
            "order": null,
            "_view_module_version": "1.2.0",
            "grid_template_areas": null,
            "object_position": null,
            "object_fit": null,
            "grid_auto_columns": null,
            "margin": null,
            "display": null,
            "left": null
          }
        },
        "b706b4338c6746bfa793dd1ae8b1fb1f": {
          "model_module": "@jupyter-widgets/controls",
          "model_name": "DescriptionStyleModel",
          "state": {
            "_view_name": "StyleView",
            "_model_name": "DescriptionStyleModel",
            "description_width": "",
            "_view_module": "@jupyter-widgets/base",
            "_model_module_version": "1.5.0",
            "_view_count": null,
            "_view_module_version": "1.2.0",
            "_model_module": "@jupyter-widgets/controls"
          }
        },
        "30d4a3dd2e964386bb87163f7df60474": {
          "model_module": "@jupyter-widgets/base",
          "model_name": "LayoutModel",
          "state": {
            "_view_name": "LayoutView",
            "grid_template_rows": null,
            "right": null,
            "justify_content": null,
            "_view_module": "@jupyter-widgets/base",
            "overflow": null,
            "_model_module_version": "1.2.0",
            "_view_count": null,
            "flex_flow": null,
            "width": null,
            "min_width": null,
            "border": null,
            "align_items": null,
            "bottom": null,
            "_model_module": "@jupyter-widgets/base",
            "top": null,
            "grid_column": null,
            "overflow_y": null,
            "overflow_x": null,
            "grid_auto_flow": null,
            "grid_area": null,
            "grid_template_columns": null,
            "flex": null,
            "_model_name": "LayoutModel",
            "justify_items": null,
            "grid_row": null,
            "max_height": null,
            "align_content": null,
            "visibility": null,
            "align_self": null,
            "height": null,
            "min_height": null,
            "padding": null,
            "grid_auto_rows": null,
            "grid_gap": null,
            "max_width": null,
            "order": null,
            "_view_module_version": "1.2.0",
            "grid_template_areas": null,
            "object_position": null,
            "object_fit": null,
            "grid_auto_columns": null,
            "margin": null,
            "display": null,
            "left": null
          }
        },
        "d3abe61323764b18a59b55f102366dd9": {
          "model_module": "@jupyter-widgets/controls",
          "model_name": "HBoxModel",
          "state": {
            "_view_name": "HBoxView",
            "_dom_classes": [],
            "_model_name": "HBoxModel",
            "_view_module": "@jupyter-widgets/controls",
            "_model_module_version": "1.5.0",
            "_view_count": null,
            "_view_module_version": "1.5.0",
            "box_style": "",
            "layout": "IPY_MODEL_193f464eee424216855cf905e5667611",
            "_model_module": "@jupyter-widgets/controls",
            "children": [
              "IPY_MODEL_82ae08cbbb694288bbd874383bc7b95c",
              "IPY_MODEL_3b0242284514432599fe5048b0ce14ad"
            ]
          }
        },
        "193f464eee424216855cf905e5667611": {
          "model_module": "@jupyter-widgets/base",
          "model_name": "LayoutModel",
          "state": {
            "_view_name": "LayoutView",
            "grid_template_rows": null,
            "right": null,
            "justify_content": null,
            "_view_module": "@jupyter-widgets/base",
            "overflow": null,
            "_model_module_version": "1.2.0",
            "_view_count": null,
            "flex_flow": null,
            "width": null,
            "min_width": null,
            "border": null,
            "align_items": null,
            "bottom": null,
            "_model_module": "@jupyter-widgets/base",
            "top": null,
            "grid_column": null,
            "overflow_y": null,
            "overflow_x": null,
            "grid_auto_flow": null,
            "grid_area": null,
            "grid_template_columns": null,
            "flex": null,
            "_model_name": "LayoutModel",
            "justify_items": null,
            "grid_row": null,
            "max_height": null,
            "align_content": null,
            "visibility": null,
            "align_self": null,
            "height": null,
            "min_height": null,
            "padding": null,
            "grid_auto_rows": null,
            "grid_gap": null,
            "max_width": null,
            "order": null,
            "_view_module_version": "1.2.0",
            "grid_template_areas": null,
            "object_position": null,
            "object_fit": null,
            "grid_auto_columns": null,
            "margin": null,
            "display": null,
            "left": null
          }
        },
        "82ae08cbbb694288bbd874383bc7b95c": {
          "model_module": "@jupyter-widgets/controls",
          "model_name": "FloatProgressModel",
          "state": {
            "_view_name": "ProgressView",
            "style": "IPY_MODEL_b96c3e4ea0d441b6b71510aefd4659d7",
            "_dom_classes": [],
            "description": " 57%",
            "_model_name": "FloatProgressModel",
            "bar_style": "danger",
            "max": 13368,
            "_view_module": "@jupyter-widgets/controls",
            "_model_module_version": "1.5.0",
            "value": 7573,
            "_view_count": null,
            "_view_module_version": "1.5.0",
            "orientation": "horizontal",
            "min": 0,
            "description_tooltip": null,
            "_model_module": "@jupyter-widgets/controls",
            "layout": "IPY_MODEL_d0a6f480e8634b02b9b1ed50d2426aa4"
          }
        },
        "3b0242284514432599fe5048b0ce14ad": {
          "model_module": "@jupyter-widgets/controls",
          "model_name": "HTMLModel",
          "state": {
            "_view_name": "HTMLView",
            "style": "IPY_MODEL_43f2f69ccb9e4845816beda529dd25d9",
            "_dom_classes": [],
            "description": "",
            "_model_name": "HTMLModel",
            "placeholder": "​",
            "_view_module": "@jupyter-widgets/controls",
            "_model_module_version": "1.5.0",
            "value": " 7573/13368 [00:00&lt;00:00, 75727.73 examples/s]",
            "_view_count": null,
            "_view_module_version": "1.5.0",
            "description_tooltip": null,
            "_model_module": "@jupyter-widgets/controls",
            "layout": "IPY_MODEL_1d48947770604ce6995cc079b264f625"
          }
        },
        "b96c3e4ea0d441b6b71510aefd4659d7": {
          "model_module": "@jupyter-widgets/controls",
          "model_name": "ProgressStyleModel",
          "state": {
            "_view_name": "StyleView",
            "_model_name": "ProgressStyleModel",
            "description_width": "initial",
            "_view_module": "@jupyter-widgets/base",
            "_model_module_version": "1.5.0",
            "_view_count": null,
            "_view_module_version": "1.2.0",
            "bar_color": null,
            "_model_module": "@jupyter-widgets/controls"
          }
        },
        "d0a6f480e8634b02b9b1ed50d2426aa4": {
          "model_module": "@jupyter-widgets/base",
          "model_name": "LayoutModel",
          "state": {
            "_view_name": "LayoutView",
            "grid_template_rows": null,
            "right": null,
            "justify_content": null,
            "_view_module": "@jupyter-widgets/base",
            "overflow": null,
            "_model_module_version": "1.2.0",
            "_view_count": null,
            "flex_flow": null,
            "width": null,
            "min_width": null,
            "border": null,
            "align_items": null,
            "bottom": null,
            "_model_module": "@jupyter-widgets/base",
            "top": null,
            "grid_column": null,
            "overflow_y": null,
            "overflow_x": null,
            "grid_auto_flow": null,
            "grid_area": null,
            "grid_template_columns": null,
            "flex": null,
            "_model_name": "LayoutModel",
            "justify_items": null,
            "grid_row": null,
            "max_height": null,
            "align_content": null,
            "visibility": null,
            "align_self": null,
            "height": null,
            "min_height": null,
            "padding": null,
            "grid_auto_rows": null,
            "grid_gap": null,
            "max_width": null,
            "order": null,
            "_view_module_version": "1.2.0",
            "grid_template_areas": null,
            "object_position": null,
            "object_fit": null,
            "grid_auto_columns": null,
            "margin": null,
            "display": null,
            "left": null
          }
        },
        "43f2f69ccb9e4845816beda529dd25d9": {
          "model_module": "@jupyter-widgets/controls",
          "model_name": "DescriptionStyleModel",
          "state": {
            "_view_name": "StyleView",
            "_model_name": "DescriptionStyleModel",
            "description_width": "",
            "_view_module": "@jupyter-widgets/base",
            "_model_module_version": "1.5.0",
            "_view_count": null,
            "_view_module_version": "1.2.0",
            "_model_module": "@jupyter-widgets/controls"
          }
        },
        "1d48947770604ce6995cc079b264f625": {
          "model_module": "@jupyter-widgets/base",
          "model_name": "LayoutModel",
          "state": {
            "_view_name": "LayoutView",
            "grid_template_rows": null,
            "right": null,
            "justify_content": null,
            "_view_module": "@jupyter-widgets/base",
            "overflow": null,
            "_model_module_version": "1.2.0",
            "_view_count": null,
            "flex_flow": null,
            "width": null,
            "min_width": null,
            "border": null,
            "align_items": null,
            "bottom": null,
            "_model_module": "@jupyter-widgets/base",
            "top": null,
            "grid_column": null,
            "overflow_y": null,
            "overflow_x": null,
            "grid_auto_flow": null,
            "grid_area": null,
            "grid_template_columns": null,
            "flex": null,
            "_model_name": "LayoutModel",
            "justify_items": null,
            "grid_row": null,
            "max_height": null,
            "align_content": null,
            "visibility": null,
            "align_self": null,
            "height": null,
            "min_height": null,
            "padding": null,
            "grid_auto_rows": null,
            "grid_gap": null,
            "max_width": null,
            "order": null,
            "_view_module_version": "1.2.0",
            "grid_template_areas": null,
            "object_position": null,
            "object_fit": null,
            "grid_auto_columns": null,
            "margin": null,
            "display": null,
            "left": null
          }
        },
        "d3a26c1709dc4fe886ac6c19321edccf": {
          "model_module": "@jupyter-widgets/controls",
          "model_name": "HBoxModel",
          "state": {
            "_view_name": "HBoxView",
            "_dom_classes": [],
            "_model_name": "HBoxModel",
            "_view_module": "@jupyter-widgets/controls",
            "_model_module_version": "1.5.0",
            "_view_count": null,
            "_view_module_version": "1.5.0",
            "box_style": "",
            "layout": "IPY_MODEL_6491b764101f4933af1268ed78ad4c66",
            "_model_module": "@jupyter-widgets/controls",
            "children": [
              "IPY_MODEL_403e57395cbf4588aa03cbe9b652e0dd",
              "IPY_MODEL_c7ffdb4ab4c14ac4bd272339931a05f8"
            ]
          }
        },
        "6491b764101f4933af1268ed78ad4c66": {
          "model_module": "@jupyter-widgets/base",
          "model_name": "LayoutModel",
          "state": {
            "_view_name": "LayoutView",
            "grid_template_rows": null,
            "right": null,
            "justify_content": null,
            "_view_module": "@jupyter-widgets/base",
            "overflow": null,
            "_model_module_version": "1.2.0",
            "_view_count": null,
            "flex_flow": null,
            "width": null,
            "min_width": null,
            "border": null,
            "align_items": null,
            "bottom": null,
            "_model_module": "@jupyter-widgets/base",
            "top": null,
            "grid_column": null,
            "overflow_y": null,
            "overflow_x": null,
            "grid_auto_flow": null,
            "grid_area": null,
            "grid_template_columns": null,
            "flex": null,
            "_model_name": "LayoutModel",
            "justify_items": null,
            "grid_row": null,
            "max_height": null,
            "align_content": null,
            "visibility": null,
            "align_self": null,
            "height": null,
            "min_height": null,
            "padding": null,
            "grid_auto_rows": null,
            "grid_gap": null,
            "max_width": null,
            "order": null,
            "_view_module_version": "1.2.0",
            "grid_template_areas": null,
            "object_position": null,
            "object_fit": null,
            "grid_auto_columns": null,
            "margin": null,
            "display": null,
            "left": null
          }
        },
        "403e57395cbf4588aa03cbe9b652e0dd": {
          "model_module": "@jupyter-widgets/controls",
          "model_name": "FloatProgressModel",
          "state": {
            "_view_name": "ProgressView",
            "style": "IPY_MODEL_a440d82c6c0b453aa9e84becd0705db3",
            "_dom_classes": [],
            "description": "",
            "_model_name": "FloatProgressModel",
            "bar_style": "info",
            "max": 1,
            "_view_module": "@jupyter-widgets/controls",
            "_model_module_version": "1.5.0",
            "value": 1,
            "_view_count": null,
            "_view_module_version": "1.5.0",
            "orientation": "horizontal",
            "min": 0,
            "description_tooltip": null,
            "_model_module": "@jupyter-widgets/controls",
            "layout": "IPY_MODEL_ac4ad9b4d82c4c0b950ca73e0df7ad28"
          }
        },
        "c7ffdb4ab4c14ac4bd272339931a05f8": {
          "model_module": "@jupyter-widgets/controls",
          "model_name": "HTMLModel",
          "state": {
            "_view_name": "HTMLView",
            "style": "IPY_MODEL_3d76444f6adc44aca638c8992f6eb0d2",
            "_dom_classes": [],
            "description": "",
            "_model_name": "HTMLModel",
            "placeholder": "​",
            "_view_module": "@jupyter-widgets/controls",
            "_model_module_version": "1.5.0",
            "value": " 11490/0 [00:06&lt;00:00, 1633.60 examples/s]",
            "_view_count": null,
            "_view_module_version": "1.5.0",
            "description_tooltip": null,
            "_model_module": "@jupyter-widgets/controls",
            "layout": "IPY_MODEL_a874972f9fa64a1fbf390b0b2150ebbd"
          }
        },
        "a440d82c6c0b453aa9e84becd0705db3": {
          "model_module": "@jupyter-widgets/controls",
          "model_name": "ProgressStyleModel",
          "state": {
            "_view_name": "StyleView",
            "_model_name": "ProgressStyleModel",
            "description_width": "initial",
            "_view_module": "@jupyter-widgets/base",
            "_model_module_version": "1.5.0",
            "_view_count": null,
            "_view_module_version": "1.2.0",
            "bar_color": null,
            "_model_module": "@jupyter-widgets/controls"
          }
        },
        "ac4ad9b4d82c4c0b950ca73e0df7ad28": {
          "model_module": "@jupyter-widgets/base",
          "model_name": "LayoutModel",
          "state": {
            "_view_name": "LayoutView",
            "grid_template_rows": null,
            "right": null,
            "justify_content": null,
            "_view_module": "@jupyter-widgets/base",
            "overflow": null,
            "_model_module_version": "1.2.0",
            "_view_count": null,
            "flex_flow": null,
            "width": null,
            "min_width": null,
            "border": null,
            "align_items": null,
            "bottom": null,
            "_model_module": "@jupyter-widgets/base",
            "top": null,
            "grid_column": null,
            "overflow_y": null,
            "overflow_x": null,
            "grid_auto_flow": null,
            "grid_area": null,
            "grid_template_columns": null,
            "flex": null,
            "_model_name": "LayoutModel",
            "justify_items": null,
            "grid_row": null,
            "max_height": null,
            "align_content": null,
            "visibility": null,
            "align_self": null,
            "height": null,
            "min_height": null,
            "padding": null,
            "grid_auto_rows": null,
            "grid_gap": null,
            "max_width": null,
            "order": null,
            "_view_module_version": "1.2.0",
            "grid_template_areas": null,
            "object_position": null,
            "object_fit": null,
            "grid_auto_columns": null,
            "margin": null,
            "display": null,
            "left": null
          }
        },
        "3d76444f6adc44aca638c8992f6eb0d2": {
          "model_module": "@jupyter-widgets/controls",
          "model_name": "DescriptionStyleModel",
          "state": {
            "_view_name": "StyleView",
            "_model_name": "DescriptionStyleModel",
            "description_width": "",
            "_view_module": "@jupyter-widgets/base",
            "_model_module_version": "1.5.0",
            "_view_count": null,
            "_view_module_version": "1.2.0",
            "_model_module": "@jupyter-widgets/controls"
          }
        },
        "a874972f9fa64a1fbf390b0b2150ebbd": {
          "model_module": "@jupyter-widgets/base",
          "model_name": "LayoutModel",
          "state": {
            "_view_name": "LayoutView",
            "grid_template_rows": null,
            "right": null,
            "justify_content": null,
            "_view_module": "@jupyter-widgets/base",
            "overflow": null,
            "_model_module_version": "1.2.0",
            "_view_count": null,
            "flex_flow": null,
            "width": null,
            "min_width": null,
            "border": null,
            "align_items": null,
            "bottom": null,
            "_model_module": "@jupyter-widgets/base",
            "top": null,
            "grid_column": null,
            "overflow_y": null,
            "overflow_x": null,
            "grid_auto_flow": null,
            "grid_area": null,
            "grid_template_columns": null,
            "flex": null,
            "_model_name": "LayoutModel",
            "justify_items": null,
            "grid_row": null,
            "max_height": null,
            "align_content": null,
            "visibility": null,
            "align_self": null,
            "height": null,
            "min_height": null,
            "padding": null,
            "grid_auto_rows": null,
            "grid_gap": null,
            "max_width": null,
            "order": null,
            "_view_module_version": "1.2.0",
            "grid_template_areas": null,
            "object_position": null,
            "object_fit": null,
            "grid_auto_columns": null,
            "margin": null,
            "display": null,
            "left": null
          }
        },
        "41dda2b61f324fff8e0d8632c70d136a": {
          "model_module": "@jupyter-widgets/controls",
          "model_name": "HBoxModel",
          "state": {
            "_view_name": "HBoxView",
            "_dom_classes": [],
            "_model_name": "HBoxModel",
            "_view_module": "@jupyter-widgets/controls",
            "_model_module_version": "1.5.0",
            "_view_count": null,
            "_view_module_version": "1.5.0",
            "box_style": "",
            "layout": "IPY_MODEL_4e161026e8d0447c94aaa9804168cbb6",
            "_model_module": "@jupyter-widgets/controls",
            "children": [
              "IPY_MODEL_651122a9d1584db8bfd93f795aab0793",
              "IPY_MODEL_f7c0c0fac2c84a08819ac1eb9b320fed"
            ]
          }
        },
        "4e161026e8d0447c94aaa9804168cbb6": {
          "model_module": "@jupyter-widgets/base",
          "model_name": "LayoutModel",
          "state": {
            "_view_name": "LayoutView",
            "grid_template_rows": null,
            "right": null,
            "justify_content": null,
            "_view_module": "@jupyter-widgets/base",
            "overflow": null,
            "_model_module_version": "1.2.0",
            "_view_count": null,
            "flex_flow": null,
            "width": null,
            "min_width": null,
            "border": null,
            "align_items": null,
            "bottom": null,
            "_model_module": "@jupyter-widgets/base",
            "top": null,
            "grid_column": null,
            "overflow_y": null,
            "overflow_x": null,
            "grid_auto_flow": null,
            "grid_area": null,
            "grid_template_columns": null,
            "flex": null,
            "_model_name": "LayoutModel",
            "justify_items": null,
            "grid_row": null,
            "max_height": null,
            "align_content": null,
            "visibility": null,
            "align_self": null,
            "height": null,
            "min_height": null,
            "padding": null,
            "grid_auto_rows": null,
            "grid_gap": null,
            "max_width": null,
            "order": null,
            "_view_module_version": "1.2.0",
            "grid_template_areas": null,
            "object_position": null,
            "object_fit": null,
            "grid_auto_columns": null,
            "margin": null,
            "display": null,
            "left": null
          }
        },
        "651122a9d1584db8bfd93f795aab0793": {
          "model_module": "@jupyter-widgets/controls",
          "model_name": "FloatProgressModel",
          "state": {
            "_view_name": "ProgressView",
            "style": "IPY_MODEL_1063897acec44dbe8d245772a1825d1f",
            "_dom_classes": [],
            "description": " 74%",
            "_model_name": "FloatProgressModel",
            "bar_style": "danger",
            "max": 11490,
            "_view_module": "@jupyter-widgets/controls",
            "_model_module_version": "1.5.0",
            "value": 8559,
            "_view_count": null,
            "_view_module_version": "1.5.0",
            "orientation": "horizontal",
            "min": 0,
            "description_tooltip": null,
            "_model_module": "@jupyter-widgets/controls",
            "layout": "IPY_MODEL_ae1c0b3d8b8246b79189c22b16908eee"
          }
        },
        "f7c0c0fac2c84a08819ac1eb9b320fed": {
          "model_module": "@jupyter-widgets/controls",
          "model_name": "HTMLModel",
          "state": {
            "_view_name": "HTMLView",
            "style": "IPY_MODEL_5a075c0e61f24d0c94ca593131b6679e",
            "_dom_classes": [],
            "description": "",
            "_model_name": "HTMLModel",
            "placeholder": "​",
            "_view_module": "@jupyter-widgets/controls",
            "_model_module_version": "1.5.0",
            "value": " 8559/11490 [00:00&lt;00:00, 85589.67 examples/s]",
            "_view_count": null,
            "_view_module_version": "1.5.0",
            "description_tooltip": null,
            "_model_module": "@jupyter-widgets/controls",
            "layout": "IPY_MODEL_1eac8e409b4744f8b83073623c1c5dee"
          }
        },
        "1063897acec44dbe8d245772a1825d1f": {
          "model_module": "@jupyter-widgets/controls",
          "model_name": "ProgressStyleModel",
          "state": {
            "_view_name": "StyleView",
            "_model_name": "ProgressStyleModel",
            "description_width": "initial",
            "_view_module": "@jupyter-widgets/base",
            "_model_module_version": "1.5.0",
            "_view_count": null,
            "_view_module_version": "1.2.0",
            "bar_color": null,
            "_model_module": "@jupyter-widgets/controls"
          }
        },
        "ae1c0b3d8b8246b79189c22b16908eee": {
          "model_module": "@jupyter-widgets/base",
          "model_name": "LayoutModel",
          "state": {
            "_view_name": "LayoutView",
            "grid_template_rows": null,
            "right": null,
            "justify_content": null,
            "_view_module": "@jupyter-widgets/base",
            "overflow": null,
            "_model_module_version": "1.2.0",
            "_view_count": null,
            "flex_flow": null,
            "width": null,
            "min_width": null,
            "border": null,
            "align_items": null,
            "bottom": null,
            "_model_module": "@jupyter-widgets/base",
            "top": null,
            "grid_column": null,
            "overflow_y": null,
            "overflow_x": null,
            "grid_auto_flow": null,
            "grid_area": null,
            "grid_template_columns": null,
            "flex": null,
            "_model_name": "LayoutModel",
            "justify_items": null,
            "grid_row": null,
            "max_height": null,
            "align_content": null,
            "visibility": null,
            "align_self": null,
            "height": null,
            "min_height": null,
            "padding": null,
            "grid_auto_rows": null,
            "grid_gap": null,
            "max_width": null,
            "order": null,
            "_view_module_version": "1.2.0",
            "grid_template_areas": null,
            "object_position": null,
            "object_fit": null,
            "grid_auto_columns": null,
            "margin": null,
            "display": null,
            "left": null
          }
        },
        "5a075c0e61f24d0c94ca593131b6679e": {
          "model_module": "@jupyter-widgets/controls",
          "model_name": "DescriptionStyleModel",
          "state": {
            "_view_name": "StyleView",
            "_model_name": "DescriptionStyleModel",
            "description_width": "",
            "_view_module": "@jupyter-widgets/base",
            "_model_module_version": "1.5.0",
            "_view_count": null,
            "_view_module_version": "1.2.0",
            "_model_module": "@jupyter-widgets/controls"
          }
        },
        "1eac8e409b4744f8b83073623c1c5dee": {
          "model_module": "@jupyter-widgets/base",
          "model_name": "LayoutModel",
          "state": {
            "_view_name": "LayoutView",
            "grid_template_rows": null,
            "right": null,
            "justify_content": null,
            "_view_module": "@jupyter-widgets/base",
            "overflow": null,
            "_model_module_version": "1.2.0",
            "_view_count": null,
            "flex_flow": null,
            "width": null,
            "min_width": null,
            "border": null,
            "align_items": null,
            "bottom": null,
            "_model_module": "@jupyter-widgets/base",
            "top": null,
            "grid_column": null,
            "overflow_y": null,
            "overflow_x": null,
            "grid_auto_flow": null,
            "grid_area": null,
            "grid_template_columns": null,
            "flex": null,
            "_model_name": "LayoutModel",
            "justify_items": null,
            "grid_row": null,
            "max_height": null,
            "align_content": null,
            "visibility": null,
            "align_self": null,
            "height": null,
            "min_height": null,
            "padding": null,
            "grid_auto_rows": null,
            "grid_gap": null,
            "max_width": null,
            "order": null,
            "_view_module_version": "1.2.0",
            "grid_template_areas": null,
            "object_position": null,
            "object_fit": null,
            "grid_auto_columns": null,
            "margin": null,
            "display": null,
            "left": null
          }
        }
      }
    }
  },
  "cells": [
    {
      "cell_type": "code",
      "metadata": {
        "id": "BeYJv50NFm_P"
      },
      "source": [
        "import pandas as pd\r\n",
        "import numpy as np\r\n",
        "import tensorflow as tf\r\n",
        "import time\r\n",
        "import re\r\n",
        "import pickle\r\n",
        "import tensorflow_datasets as tfds\r\n",
        "import keras"
      ],
      "execution_count": null,
      "outputs": []
    },
    {
      "cell_type": "code",
      "metadata": {
        "id": "oCEDyy5YHyoK",
        "colab": {
          "base_uri": "https://localhost:8080/",
          "height": 450,
          "referenced_widgets": [
            "0f1b4afa33d04b009227b43a41b6aa86",
            "02da32431f754dfd88634d319733ae87",
            "4d5b71b2c40f4c85b15a3a8510192706",
            "8fbc432809d044ce9f8b16b6d220c063",
            "00c5eda3b08e4debb58acfe5a0fa51c0",
            "86a3cd225ecb429281d9b95d641a7892",
            "2ae5746229eb463b8f1633cc611649ce",
            "b15bc18ea9254ce9a2ad45a62e6ec21b",
            "e0d12c5594094e95843258fd58ad638b",
            "57866d17b35c41dd84a4fa0b8200ee92",
            "9c581effb4c24fbe92457c5db32cbe6d",
            "ca50da47833d40cfb16bfed0656ceb11",
            "4a2e505862a44180b1a125728270fe12",
            "d89f945973864538b82c5a3bbd6e90cd",
            "efb3420206324a8da8cb73d596168d36",
            "7e1fb3186f18477895e9e5b7dc2c0939",
            "f8beec3ee8af4e65924e79dea1b7099c",
            "fdf0b70c29fd44b6a90f8366539f89be",
            "d84b223d2a34443fb6dda3c4d5e5831d",
            "a2c9bc91a4fe4fc880e4a5cf413e2b31",
            "60bdf513f209432fb3a36ab5af5af50d",
            "9d7b65dbee264939859083be19b06a95",
            "92794f4d2a1549aaac6ecda32e49eaa1",
            "03bd65e494fc490dbdbcb2c128ad8dbe",
            "59ebc2a2f01644a4ba208e4c59096158",
            "352f2e073c5b4265bf23ea563efc3b27",
            "bb4d56ab59834be29a6ce0b7d99f0225",
            "773cbb0615114aaf84b9ee54b1ce2181",
            "56c71b1b67484453b0a463b1a095477b",
            "1deb7d5dda094ea9a76b8741efb9117d",
            "370686201ad14387938545e553741d90",
            "ea3e2a9d91684546831bcd3bd3eda85f",
            "0720d78f21dc46dabea81f0d1e8e3ebc",
            "21711462ae1a4e4cbe9d332ce88064b6",
            "5460d13abb8b492791840bc0c66bd81f",
            "a899f1fbc4e54c3b9da59848797cd45a",
            "02ab03479c7e464abb6b074c4288dc2b",
            "a6af181817154445a0801d9c4e0f3d58",
            "eb2b67f3308c418b9629635b2877e864",
            "59bd10394f084ebebff86108fab5195e",
            "d570d5eebe1d4719aecd9aaf4215646c",
            "799580975f2747c6ba4b048e6f7407a6",
            "792019e9863a4a71874415b9c56f5ad0",
            "12229deaaf3044bc962a187dfc5295ba",
            "4622a597059d4e6b8166da867d4d146e",
            "50efc42d52064dfba57b8cb9c186d678",
            "b706b4338c6746bfa793dd1ae8b1fb1f",
            "30d4a3dd2e964386bb87163f7df60474",
            "d3abe61323764b18a59b55f102366dd9",
            "193f464eee424216855cf905e5667611",
            "82ae08cbbb694288bbd874383bc7b95c",
            "3b0242284514432599fe5048b0ce14ad",
            "b96c3e4ea0d441b6b71510aefd4659d7",
            "d0a6f480e8634b02b9b1ed50d2426aa4",
            "43f2f69ccb9e4845816beda529dd25d9",
            "1d48947770604ce6995cc079b264f625",
            "d3a26c1709dc4fe886ac6c19321edccf",
            "6491b764101f4933af1268ed78ad4c66",
            "403e57395cbf4588aa03cbe9b652e0dd",
            "c7ffdb4ab4c14ac4bd272339931a05f8",
            "a440d82c6c0b453aa9e84becd0705db3",
            "ac4ad9b4d82c4c0b950ca73e0df7ad28",
            "3d76444f6adc44aca638c8992f6eb0d2",
            "a874972f9fa64a1fbf390b0b2150ebbd",
            "41dda2b61f324fff8e0d8632c70d136a",
            "4e161026e8d0447c94aaa9804168cbb6",
            "651122a9d1584db8bfd93f795aab0793",
            "f7c0c0fac2c84a08819ac1eb9b320fed",
            "1063897acec44dbe8d245772a1825d1f",
            "ae1c0b3d8b8246b79189c22b16908eee",
            "5a075c0e61f24d0c94ca593131b6679e",
            "1eac8e409b4744f8b83073623c1c5dee"
          ]
        },
        "outputId": "83ab53d6-c2db-423a-8778-6c31ac96c1dc"
      },
      "source": [
        "ds = tfds.load('cnn_dailymail', split='train', shuffle_files=False)\r\n",
        "ds = ds.batch(1000).prefetch(tf.data.experimental.AUTOTUNE)\r\n",
        "result=[]\r\n",
        "for example in ds.take(1):\r\n",
        "  articles,highlights=example['article'].numpy(),example['highlights'].numpy()"
      ],
      "execution_count": null,
      "outputs": [
        {
          "output_type": "stream",
          "text": [
            "\u001b[1mDownloading and preparing dataset cnn_dailymail/plain_text/3.0.0 (download: 558.32 MiB, generated: 1.27 GiB, total: 1.82 GiB) to /root/tensorflow_datasets/cnn_dailymail/plain_text/3.0.0...\u001b[0m\n"
          ],
          "name": "stdout"
        },
        {
          "output_type": "display_data",
          "data": {
            "application/vnd.jupyter.widget-view+json": {
              "model_id": "0f1b4afa33d04b009227b43a41b6aa86",
              "version_minor": 0,
              "version_major": 2
            },
            "text/plain": [
              "HBox(children=(FloatProgress(value=1.0, bar_style='info', description='Dl Completed...', max=1.0, style=Progre…"
            ]
          },
          "metadata": {
            "tags": []
          }
        },
        {
          "output_type": "display_data",
          "data": {
            "application/vnd.jupyter.widget-view+json": {
              "model_id": "e0d12c5594094e95843258fd58ad638b",
              "version_minor": 0,
              "version_major": 2
            },
            "text/plain": [
              "HBox(children=(FloatProgress(value=1.0, bar_style='info', description='Dl Size...', max=1.0, style=ProgressSty…"
            ]
          },
          "metadata": {
            "tags": []
          }
        },
        {
          "output_type": "display_data",
          "data": {
            "application/vnd.jupyter.widget-view+json": {
              "model_id": "f8beec3ee8af4e65924e79dea1b7099c",
              "version_minor": 0,
              "version_major": 2
            },
            "text/plain": [
              "HBox(children=(FloatProgress(value=1.0, bar_style='info', description='Extraction completed...', max=1.0, styl…"
            ]
          },
          "metadata": {
            "tags": []
          }
        },
        {
          "output_type": "stream",
          "text": [
            "\n",
            "\n",
            "\n",
            "\n",
            "\n",
            "\n"
          ],
          "name": "stdout"
        },
        {
          "output_type": "display_data",
          "data": {
            "application/vnd.jupyter.widget-view+json": {
              "model_id": "59ebc2a2f01644a4ba208e4c59096158",
              "version_minor": 0,
              "version_major": 2
            },
            "text/plain": [
              "HBox(children=(FloatProgress(value=1.0, bar_style='info', max=1.0), HTML(value='')))"
            ]
          },
          "metadata": {
            "tags": []
          }
        },
        {
          "output_type": "stream",
          "text": [
            "\rShuffling and writing examples to /root/tensorflow_datasets/cnn_dailymail/plain_text/3.0.0.incompleteO5LCVX/cnn_dailymail-train.tfrecord\n"
          ],
          "name": "stdout"
        },
        {
          "output_type": "display_data",
          "data": {
            "application/vnd.jupyter.widget-view+json": {
              "model_id": "0720d78f21dc46dabea81f0d1e8e3ebc",
              "version_minor": 0,
              "version_major": 2
            },
            "text/plain": [
              "HBox(children=(FloatProgress(value=0.0, max=287113.0), HTML(value='')))"
            ]
          },
          "metadata": {
            "tags": []
          }
        },
        {
          "output_type": "stream",
          "text": [
            "\r"
          ],
          "name": "stdout"
        },
        {
          "output_type": "display_data",
          "data": {
            "application/vnd.jupyter.widget-view+json": {
              "model_id": "d570d5eebe1d4719aecd9aaf4215646c",
              "version_minor": 0,
              "version_major": 2
            },
            "text/plain": [
              "HBox(children=(FloatProgress(value=1.0, bar_style='info', max=1.0), HTML(value='')))"
            ]
          },
          "metadata": {
            "tags": []
          }
        },
        {
          "output_type": "stream",
          "text": [
            "Shuffling and writing examples to /root/tensorflow_datasets/cnn_dailymail/plain_text/3.0.0.incompleteO5LCVX/cnn_dailymail-validation.tfrecord\n"
          ],
          "name": "stdout"
        },
        {
          "output_type": "display_data",
          "data": {
            "application/vnd.jupyter.widget-view+json": {
              "model_id": "d3abe61323764b18a59b55f102366dd9",
              "version_minor": 0,
              "version_major": 2
            },
            "text/plain": [
              "HBox(children=(FloatProgress(value=0.0, max=13368.0), HTML(value='')))"
            ]
          },
          "metadata": {
            "tags": []
          }
        },
        {
          "output_type": "stream",
          "text": [
            "\r"
          ],
          "name": "stdout"
        },
        {
          "output_type": "display_data",
          "data": {
            "application/vnd.jupyter.widget-view+json": {
              "model_id": "d3a26c1709dc4fe886ac6c19321edccf",
              "version_minor": 0,
              "version_major": 2
            },
            "text/plain": [
              "HBox(children=(FloatProgress(value=1.0, bar_style='info', max=1.0), HTML(value='')))"
            ]
          },
          "metadata": {
            "tags": []
          }
        },
        {
          "output_type": "stream",
          "text": [
            "\rShuffling and writing examples to /root/tensorflow_datasets/cnn_dailymail/plain_text/3.0.0.incompleteO5LCVX/cnn_dailymail-test.tfrecord\n"
          ],
          "name": "stdout"
        },
        {
          "output_type": "display_data",
          "data": {
            "application/vnd.jupyter.widget-view+json": {
              "model_id": "41dda2b61f324fff8e0d8632c70d136a",
              "version_minor": 0,
              "version_major": 2
            },
            "text/plain": [
              "HBox(children=(FloatProgress(value=0.0, max=11490.0), HTML(value='')))"
            ]
          },
          "metadata": {
            "tags": []
          }
        },
        {
          "output_type": "stream",
          "text": [
            "WARNING:absl:Dataset is using deprecated text encoder API which will be removed soon. Please use the plain_text version of the dataset and migrate to `tensorflow_text`.\n",
            "WARNING:absl:Dataset is using deprecated text encoder API which will be removed soon. Please use the plain_text version of the dataset and migrate to `tensorflow_text`.\n"
          ],
          "name": "stderr"
        },
        {
          "output_type": "stream",
          "text": [
            "\u001b[1mDataset cnn_dailymail downloaded and prepared to /root/tensorflow_datasets/cnn_dailymail/plain_text/3.0.0. Subsequent calls will reuse this data.\u001b[0m\n",
            "\r"
          ],
          "name": "stdout"
        }
      ]
    },
    {
      "cell_type": "code",
      "metadata": {
        "id": "p7D-CxZQd8kC"
      },
      "source": [
        "summary = ['<go> ' + str(highlight) + ' <stop>' for highlight in highlights]\r\n",
        "article = [  str(article)  for article in articles]"
      ],
      "execution_count": null,
      "outputs": []
    },
    {
      "cell_type": "code",
      "metadata": {
        "id": "FTsh9eUpjDu_"
      },
      "source": [
        "oov_token = '<unk>'\r\n",
        "document_tokenizer = tf.keras.preprocessing.text.Tokenizer(oov_token=oov_token)\r\n",
        "summary_tokenizer = tf.keras.preprocessing.text.Tokenizer( oov_token=oov_token)"
      ],
      "execution_count": null,
      "outputs": []
    },
    {
      "cell_type": "code",
      "metadata": {
        "id": "tnEXkQbWjHDf"
      },
      "source": [
        "document_tokenizer.fit_on_texts(article)\r\n",
        "summary_tokenizer.fit_on_texts(summary)"
      ],
      "execution_count": null,
      "outputs": []
    },
    {
      "cell_type": "code",
      "metadata": {
        "id": "wZjEBzZ0lWvW"
      },
      "source": [
        "inputs = document_tokenizer.texts_to_sequences(article)\r\n",
        "targets = summary_tokenizer.texts_to_sequences(summary)"
      ],
      "execution_count": null,
      "outputs": []
    },
    {
      "cell_type": "code",
      "metadata": {
        "colab": {
          "base_uri": "https://localhost:8080/"
        },
        "id": "K13xFQahm6i3",
        "outputId": "409fa169-c4d0-4391-bff5-ed7e803a962f"
      },
      "source": [
        "encoder_vocab_size = len(document_tokenizer.word_index) + 1\r\n",
        "decoder_vocab_size = len(summary_tokenizer.word_index) + 1\r\n",
        "\r\n",
        "# vocab_size\r\n",
        "encoder_vocab_size, decoder_vocab_size"
      ],
      "execution_count": null,
      "outputs": [
        {
          "output_type": "execute_result",
          "data": {
            "text/plain": [
              "(36754, 12120)"
            ]
          },
          "metadata": {
            "tags": []
          },
          "execution_count": 7
        }
      ]
    },
    {
      "cell_type": "code",
      "metadata": {
        "id": "JuSHd-XJnHHP"
      },
      "source": [
        "document_lengths = pd.Series([len(x) for x in articles])\r\n",
        "summary_lengths = pd.Series([len(x) for x in summary])"
      ],
      "execution_count": null,
      "outputs": []
    },
    {
      "cell_type": "code",
      "metadata": {
        "colab": {
          "base_uri": "https://localhost:8080/"
        },
        "id": "xAg8weWEnMbI",
        "outputId": "5ad5e82d-ed2d-4795-d514-2e1a65ac4d69"
      },
      "source": [
        "\r\n",
        "summary_lengths.describe()"
      ],
      "execution_count": null,
      "outputs": [
        {
          "output_type": "execute_result",
          "data": {
            "text/plain": [
              "count    1000.000000\n",
              "mean      316.031000\n",
              "std       126.599714\n",
              "min        68.000000\n",
              "25%       236.750000\n",
              "50%       299.000000\n",
              "75%       362.500000\n",
              "max      1674.000000\n",
              "dtype: float64"
            ]
          },
          "metadata": {
            "tags": []
          },
          "execution_count": 9
        }
      ]
    },
    {
      "cell_type": "code",
      "metadata": {
        "id": "8LUkInpZnWMY"
      },
      "source": [
        "encoder_maxlen = 75\r\n",
        "decoder_maxlen = 76\r\n",
        "https://github.com/rojagtap/abstractive_summarizer/blob/master/summarizer.ipynb"
      ],
      "execution_count": null,
      "outputs": []
    },
    {
      "cell_type": "code",
      "metadata": {
        "id": "BrQ3GzORnxlH"
      },
      "source": [
        "inputs = tf.keras.preprocessing.sequence.pad_sequences(inputs, maxlen=encoder_maxlen, padding='post', truncating='post')\r\n",
        "targets = tf.keras.preprocessing.sequence.pad_sequences(targets, maxlen=decoder_maxlen, padding='post', truncating='post')"
      ],
      "execution_count": null,
      "outputs": []
    },
    {
      "cell_type": "code",
      "metadata": {
        "id": "OrGZ8-Ygn5IQ"
      },
      "source": [
        "\r\n",
        "inputs = tf.cast(inputs, dtype=tf.int32)\r\n",
        "targets = tf.cast(targets, dtype=tf.int32)\r\n",
        "\r\n",
        "BUFFER_SIZE = 20000\r\n",
        "BATCH_SIZE = 64\r\n",
        "dataset = tf.data.Dataset.from_tensor_slices((inputs, targets)).shuffle(BUFFER_SIZE).batch(BATCH_SIZE)"
      ],
      "execution_count": null,
      "outputs": []
    },
    {
      "cell_type": "code",
      "metadata": {
        "id": "-HvQnm6_oMuw"
      },
      "source": [
        "\r\n",
        "def get_angles(position, i, d_model):\r\n",
        "    angle_rates = 1 / np.power(10000, (2 * (i // 2)) / np.float32(d_model))\r\n",
        "    return position * angle_rates\r\n",
        "\r\n",
        "def positional_encoding(position, d_model):\r\n",
        "    angle_rads = get_angles(\r\n",
        "        np.arange(position)[:, np.newaxis],\r\n",
        "        np.arange(d_model)[np.newaxis, :],\r\n",
        "        d_model\r\n",
        "    )\r\n",
        "\r\n",
        "    # apply sin to even indices in the array; 2i\r\n",
        "    angle_rads[:, 0::2] = np.sin(angle_rads[:, 0::2])\r\n",
        "\r\n",
        "    # apply cos to odd indices in the array; 2i+1\r\n",
        "    angle_rads[:, 1::2] = np.cos(angle_rads[:, 1::2])\r\n",
        "\r\n",
        "    pos_encoding = angle_rads[np.newaxis, ...]\r\n",
        "\r\n",
        "    return tf.cast(pos_encoding, dtype=tf.float32)"
      ],
      "execution_count": null,
      "outputs": []
    },
    {
      "cell_type": "code",
      "metadata": {
        "id": "y8lwAutCoYDf"
      },
      "source": [
        "def create_padding_mask(seq):\r\n",
        "    seq = tf.cast(tf.math.equal(seq, 0), tf.float32)\r\n",
        "    return seq[:, tf.newaxis, tf.newaxis, :]\r\n",
        "    \r\n",
        "def create_look_ahead_mask(size):\r\n",
        "    mask = 1 - tf.linalg.band_part(tf.ones((size, size)), -1, 0)\r\n",
        "    return mask"
      ],
      "execution_count": null,
      "outputs": []
    },
    {
      "cell_type": "code",
      "metadata": {
        "id": "xEWmwK9pogV_"
      },
      "source": [
        "def scaled_dot_product_attention(q, k, v, mask):\r\n",
        "    matmul_qk = tf.matmul(q, k, transpose_b=True)\r\n",
        "\r\n",
        "    dk = tf.cast(tf.shape(k)[-1], tf.float32)\r\n",
        "    scaled_attention_logits = matmul_qk / tf.math.sqrt(dk)\r\n",
        "\r\n",
        "    if mask is not None:\r\n",
        "        scaled_attention_logits += (mask * -1e9)  \r\n",
        "\r\n",
        "    attention_weights = tf.nn.softmax(scaled_attention_logits, axis=-1)\r\n",
        "\r\n",
        "    output = tf.matmul(attention_weights, v)\r\n",
        "    return output, attention_weights"
      ],
      "execution_count": null,
      "outputs": []
    },
    {
      "cell_type": "code",
      "metadata": {
        "id": "0h2xo0mdsE2o"
      },
      "source": [
        "from tensorflow.keras.layers import Dropout, Activation, LayerNormalization,MultiHeadAttention\r\n"
      ],
      "execution_count": null,
      "outputs": []
    },
    {
      "cell_type": "code",
      "metadata": {
        "id": "R9_nwW0EolKu"
      },
      "source": [
        "class MultiHeadAttention1(tf.keras.layers.Layer):\r\n",
        "    def __init__(self, d_model, num_heads):\r\n",
        "        super(MultiHeadAttention1, self).__init__()\r\n",
        "        self.num_heads = num_heads\r\n",
        "        self.d_model = d_model\r\n",
        "\r\n",
        "        assert d_model % self.num_heads == 0\r\n",
        "\r\n",
        "        self.depth = d_model // self.num_heads\r\n",
        "\r\n",
        "        self.wq = tf.keras.layers.Dense(d_model)\r\n",
        "        self.wk = tf.keras.layers.Dense(d_model)\r\n",
        "        self.wv = tf.keras.layers.Dense(d_model)\r\n",
        "\r\n",
        "        self.dense = tf.keras.layers.Dense(d_model)\r\n",
        "        \r\n",
        "    def split_heads(self, x, batch_size):\r\n",
        "        x = tf.reshape(x, (batch_size, -1, self.num_heads, self.depth))\r\n",
        "        return tf.transpose(x, perm=[0, 2, 1, 3])\r\n",
        "    \r\n",
        "    def call(self, v, k, q, mask):\r\n",
        "        batch_size = tf.shape(q)[0]\r\n",
        "\r\n",
        "        q = self.wq(q)\r\n",
        "        k = self.wk(k)\r\n",
        "        v = self.wv(v)\r\n",
        "\r\n",
        "        q = self.split_heads(q, batch_size)\r\n",
        "        k = self.split_heads(k, batch_size)\r\n",
        "        v = self.split_heads(v, batch_size)\r\n",
        "\r\n",
        "        scaled_attention, attention_weights = scaled_dot_product_attention(\r\n",
        "            q, k, v, mask)\r\n",
        "\r\n",
        "        scaled_attention = tf.transpose(scaled_attention, perm=[0, 2, 1, 3])\r\n",
        "\r\n",
        "        concat_attention = tf.reshape(scaled_attention, (batch_size, -1, self.d_model))\r\n",
        "        output = self.dense(concat_attention)\r\n",
        "            \r\n",
        "        return output, attention_weights"
      ],
      "execution_count": null,
      "outputs": []
    },
    {
      "cell_type": "code",
      "metadata": {
        "id": "9fGBbUk6oplZ"
      },
      "source": [
        "def point_wise_feed_forward_network(d_model, dff):\r\n",
        "    return tf.keras.Sequential([\r\n",
        "        tf.keras.layers.Dense(dff, activation='relu'),\r\n",
        "        tf.keras.layers.Dense(d_model)\r\n",
        "    ])"
      ],
      "execution_count": null,
      "outputs": []
    },
    {
      "cell_type": "code",
      "metadata": {
        "id": "36lvaW_EpYPg"
      },
      "source": [
        "class EncoderLayer(tf.keras.layers.Layer):\r\n",
        "    def __init__(self, d_model, num_heads, dff, rate=0.1):\r\n",
        "        super(EncoderLayer, self).__init__()\r\n",
        "\r\n",
        "        self.mha = MultiHeadAttention(num_heads=num_heads,key_dim=d_model)\r\n",
        "        self.ffn = point_wise_feed_forward_network(d_model, dff)\r\n",
        "\r\n",
        "        self.layernorm1 = tf.keras.layers.LayerNormalization(epsilon=1e-6)\r\n",
        "        self.layernorm2 = tf.keras.layers.LayerNormalization(epsilon=1e-6)\r\n",
        "\r\n",
        "        self.dropout1 = tf.keras.layers.Dropout(rate)\r\n",
        "        self.dropout2 = tf.keras.layers.Dropout(rate)\r\n",
        "    \r\n",
        "    def call(self, x, training, mask):\r\n",
        "        attn_output, _ = self.mha(x, x, key=x, attention_mask=mask,return_attention_scores=True)\r\n",
        "        attn_output = self.dropout1(attn_output, training=training)\r\n",
        "        out1 = self.layernorm1(x + attn_output)\r\n",
        "\r\n",
        "        ffn_output = self.ffn(out1)\r\n",
        "        ffn_output = self.dropout2(ffn_output, training=training)\r\n",
        "        out2 = self.layernorm2(out1 + ffn_output)\r\n",
        "\r\n",
        "        return out2"
      ],
      "execution_count": null,
      "outputs": []
    },
    {
      "cell_type": "code",
      "metadata": {
        "id": "DzSZFkoYpbVX"
      },
      "source": [
        "class DecoderLayer(tf.keras.layers.Layer):\r\n",
        "    def __init__(self, d_model, num_heads, dff, rate=0.1):\r\n",
        "        super(DecoderLayer, self).__init__()\r\n",
        "\r\n",
        "        self.mha1 = MultiHeadAttention(num_heads=num_heads,key_dim=d_model)\r\n",
        "        self.mha2 = MultiHeadAttention(num_heads=num_heads,key_dim=d_model)\r\n",
        "\r\n",
        "        self.ffn = point_wise_feed_forward_network(d_model, dff)\r\n",
        "\r\n",
        "        self.layernorm1 = tf.keras.layers.LayerNormalization(epsilon=1e-6)\r\n",
        "        self.layernorm2 = tf.keras.layers.LayerNormalization(epsilon=1e-6)\r\n",
        "        self.layernorm3 = tf.keras.layers.LayerNormalization(epsilon=1e-6)\r\n",
        "\r\n",
        "        self.dropout1 = tf.keras.layers.Dropout(rate)\r\n",
        "        self.dropout2 = tf.keras.layers.Dropout(rate)\r\n",
        "        self.dropout3 = tf.keras.layers.Dropout(rate)\r\n",
        "    \r\n",
        "    \r\n",
        "    def call(self, x, enc_output, training, look_ahead_mask, padding_mask):\r\n",
        "        attn1, attn_weights_block1 = self.mha1(x, x, key=x, attention_mask=look_ahead_mask,return_attention_scores=True)\r\n",
        "        attn1 = self.dropout1(attn1, training=training)\r\n",
        "        out1 = self.layernorm1(attn1 + x)\r\n",
        "\r\n",
        "        attn2, attn_weights_block2 = self.mha2(enc_output, enc_output, key=out1, attention_mask=padding_mask,return_attention_scores=True)\r\n",
        "        attn2 = self.dropout2(attn2, training=training)\r\n",
        "        out2 = self.layernorm2(attn2 + out1)\r\n",
        "\r\n",
        "        ffn_output = self.ffn(out2)\r\n",
        "        ffn_output = self.dropout3(ffn_output, training=training)\r\n",
        "        out3 = self.layernorm3(ffn_output + out2)\r\n",
        "\r\n",
        "        return out3, attn_weights_block1, attn_weights_block2"
      ],
      "execution_count": null,
      "outputs": []
    },
    {
      "cell_type": "code",
      "metadata": {
        "id": "mt8tvTydpgjV"
      },
      "source": [
        "\r\n",
        "class Encoder(tf.keras.layers.Layer):\r\n",
        "    def __init__(self, num_layers, d_model, num_heads, dff, input_vocab_size, maximum_position_encoding, rate=0.1):\r\n",
        "        super(Encoder, self).__init__()\r\n",
        "\r\n",
        "        self.d_model = d_model\r\n",
        "        self.num_layers = num_layers\r\n",
        "\r\n",
        "        self.embedding = tf.keras.layers.Embedding(input_vocab_size, d_model)\r\n",
        "        self.pos_encoding = positional_encoding(maximum_position_encoding, self.d_model)\r\n",
        "\r\n",
        "        self.enc_layers = [EncoderLayer(d_model, num_heads, dff, rate) for _ in range(num_layers)]\r\n",
        "\r\n",
        "        self.dropout = tf.keras.layers.Dropout(rate)\r\n",
        "        \r\n",
        "    def call(self, x, training, mask):\r\n",
        "        seq_len = tf.shape(x)[1]\r\n",
        "\r\n",
        "        x = self.embedding(x)\r\n",
        "        x *= tf.math.sqrt(tf.cast(self.d_model, tf.float32))\r\n",
        "        x += self.pos_encoding[:, :seq_len, :]\r\n",
        "\r\n",
        "        x = self.dropout(x, training=training)\r\n",
        "    \r\n",
        "        for i in range(self.num_layers):\r\n",
        "            x = self.enc_layers[i](x, training, mask)\r\n",
        "    \r\n",
        "        return x"
      ],
      "execution_count": null,
      "outputs": []
    },
    {
      "cell_type": "code",
      "metadata": {
        "id": "HiSd8Z3Kpi-f"
      },
      "source": [
        "class Decoder(tf.keras.layers.Layer):\r\n",
        "    def __init__(self, num_layers, d_model, num_heads, dff, target_vocab_size, maximum_position_encoding, rate=0.1):\r\n",
        "        super(Decoder, self).__init__()\r\n",
        "\r\n",
        "        self.d_model = d_model\r\n",
        "        self.num_layers = num_layers\r\n",
        "\r\n",
        "        self.embedding = tf.keras.layers.Embedding(target_vocab_size, d_model)\r\n",
        "        self.pos_encoding = positional_encoding(maximum_position_encoding, d_model)\r\n",
        "\r\n",
        "        self.dec_layers = [DecoderLayer(d_model, num_heads, dff, rate) for _ in range(num_layers)]\r\n",
        "        self.dropout = tf.keras.layers.Dropout(rate)\r\n",
        "    \r\n",
        "    def call(self, x, enc_output, training, look_ahead_mask, padding_mask):\r\n",
        "        seq_len = tf.shape(x)[1]\r\n",
        "        attention_weights = {}\r\n",
        "\r\n",
        "        x = self.embedding(x)\r\n",
        "        x *= tf.math.sqrt(tf.cast(self.d_model, tf.float32))\r\n",
        "        x += self.pos_encoding[:, :seq_len, :]\r\n",
        "\r\n",
        "        x = self.dropout(x, training=training)\r\n",
        "\r\n",
        "        for i in range(self.num_layers):\r\n",
        "            x, block1, block2 = self.dec_layers[i](x, enc_output, training, look_ahead_mask, padding_mask)\r\n",
        "\r\n",
        "            attention_weights['decoder_layer{}_block1'.format(i+1)] = block1\r\n",
        "            attention_weights['decoder_layer{}_block2'.format(i+1)] = block2\r\n",
        "    \r\n",
        "        return x, attention_weights"
      ],
      "execution_count": null,
      "outputs": []
    },
    {
      "cell_type": "code",
      "metadata": {
        "id": "4EwbmlKmpl33"
      },
      "source": [
        "class Transformer(tf.keras.Model):\r\n",
        "    def __init__(self, num_layers, d_model, num_heads, dff, input_vocab_size, target_vocab_size, pe_input, pe_target, rate=0.1):\r\n",
        "        super(Transformer, self).__init__()\r\n",
        "\r\n",
        "        self.encoder = Encoder(num_layers, d_model, num_heads, dff, input_vocab_size, pe_input, rate)\r\n",
        "\r\n",
        "        self.decoder = Decoder(num_layers, d_model, num_heads, dff, target_vocab_size, pe_target, rate)\r\n",
        "\r\n",
        "        self.final_layer = tf.keras.layers.Dense(target_vocab_size)\r\n",
        "    \r\n",
        "    def call(self, inp, tar, training, enc_padding_mask, look_ahead_mask, dec_padding_mask):\r\n",
        "        enc_output = self.encoder(inp, training, enc_padding_mask)\r\n",
        "\r\n",
        "        dec_output, attention_weights = self.decoder(tar, enc_output, training, look_ahead_mask, dec_padding_mask)\r\n",
        "\r\n",
        "        final_output = self.final_layer(dec_output)\r\n",
        "\r\n",
        "        return final_output, attention_weights"
      ],
      "execution_count": null,
      "outputs": []
    },
    {
      "cell_type": "code",
      "metadata": {
        "id": "UvvQEn1mpsv4"
      },
      "source": [
        "num_layers = 4\r\n",
        "d_model = 128\r\n",
        "dff = 512\r\n",
        "num_heads = 8\r\n",
        "EPOCHS = 20"
      ],
      "execution_count": null,
      "outputs": []
    },
    {
      "cell_type": "code",
      "metadata": {
        "id": "MH0EjQnnpvz4"
      },
      "source": [
        "class CustomSchedule(tf.keras.optimizers.schedules.LearningRateSchedule):\r\n",
        "    def __init__(self, d_model, warmup_steps=4000):\r\n",
        "        super(CustomSchedule, self).__init__()\r\n",
        "\r\n",
        "        self.d_model = d_model\r\n",
        "        self.d_model = tf.cast(self.d_model, tf.float32)\r\n",
        "\r\n",
        "        self.warmup_steps = warmup_steps\r\n",
        "    \r\n",
        "    def __call__(self, step):\r\n",
        "        arg1 = tf.math.rsqrt(step)\r\n",
        "        arg2 = step * (self.warmup_steps ** -1.5)\r\n",
        "\r\n",
        "        return tf.math.rsqrt(self.d_model) * tf.math.minimum(arg1, arg2)"
      ],
      "execution_count": null,
      "outputs": []
    },
    {
      "cell_type": "code",
      "metadata": {
        "id": "IY8JDZsVpyMX"
      },
      "source": [
        "learning_rate = CustomSchedule(d_model)\r\n",
        "\r\n",
        "optimizer = tf.keras.optimizers.Adam(learning_rate, beta_1=0.9, beta_2=0.98, epsilon=1e-9)"
      ],
      "execution_count": null,
      "outputs": []
    },
    {
      "cell_type": "code",
      "metadata": {
        "id": "rWKA6QYop1sj"
      },
      "source": [
        "loss_object = tf.keras.losses.SparseCategoricalCrossentropy(from_logits=True, reduction='none')"
      ],
      "execution_count": null,
      "outputs": []
    },
    {
      "cell_type": "code",
      "metadata": {
        "id": "USQ6pY-bp5fW"
      },
      "source": [
        "def loss_function(real, pred):\r\n",
        "    mask = tf.math.logical_not(tf.math.equal(real, 0))\r\n",
        "    loss_ = loss_object(real, pred)\r\n",
        "\r\n",
        "    mask = tf.cast(mask, dtype=loss_.dtype)\r\n",
        "    loss_ *= mask\r\n",
        "\r\n",
        "    return tf.reduce_sum(loss_)/tf.reduce_sum(mask)"
      ],
      "execution_count": null,
      "outputs": []
    },
    {
      "cell_type": "code",
      "metadata": {
        "id": "oB3SYJ31p9I2"
      },
      "source": [
        "train_loss = tf.keras.metrics.Mean(name='train_loss')"
      ],
      "execution_count": null,
      "outputs": []
    },
    {
      "cell_type": "code",
      "metadata": {
        "id": "RfOrL3lBqAMv"
      },
      "source": [
        "\r\n",
        "transformer = Transformer(\r\n",
        "    num_layers, \r\n",
        "    d_model, \r\n",
        "    num_heads, \r\n",
        "    dff,\r\n",
        "    encoder_vocab_size, \r\n",
        "    decoder_vocab_size, \r\n",
        "    pe_input=encoder_vocab_size, \r\n",
        "    pe_target=decoder_vocab_size,\r\n",
        ")"
      ],
      "execution_count": null,
      "outputs": []
    },
    {
      "cell_type": "code",
      "metadata": {
        "id": "B_dFoo9rqFJg"
      },
      "source": [
        "\r\n",
        "def create_masks(inp, tar):\r\n",
        "    enc_padding_mask = create_padding_mask(inp)\r\n",
        "    dec_padding_mask = create_padding_mask(inp)\r\n",
        "\r\n",
        "    look_ahead_mask = create_look_ahead_mask(tf.shape(tar)[1])\r\n",
        "    dec_target_padding_mask = create_padding_mask(tar)\r\n",
        "    combined_mask = tf.maximum(dec_target_padding_mask, look_ahead_mask)\r\n",
        "  \r\n",
        "    return enc_padding_mask, combined_mask, dec_padding_mask"
      ],
      "execution_count": null,
      "outputs": []
    },
    {
      "cell_type": "code",
      "metadata": {
        "id": "co51XiW2qIbp"
      },
      "source": [
        "\r\n",
        "checkpoint_path = \"checkpoints\"\r\n",
        "\r\n",
        "ckpt = tf.train.Checkpoint(transformer=transformer, optimizer=optimizer)\r\n",
        "\r\n",
        "ckpt_manager = tf.train.CheckpointManager(ckpt, checkpoint_path, max_to_keep=5)\r\n",
        "\r\n",
        "if ckpt_manager.latest_checkpoint:\r\n",
        "    ckpt.restore(ckpt_manager.latest_checkpoint)\r\n",
        "    print ('Latest checkpoint restored!!')"
      ],
      "execution_count": null,
      "outputs": []
    },
    {
      "cell_type": "code",
      "metadata": {
        "id": "8OySqAkgqNEI"
      },
      "source": [
        "\r\n",
        "@tf.function\r\n",
        "def train_step(inp, tar):\r\n",
        "    tar_inp = tar[:, :-1]\r\n",
        "    tar_real = tar[:, 1:]\r\n",
        "\r\n",
        "    enc_padding_mask, combined_mask, dec_padding_mask = create_masks(inp, tar_inp)\r\n",
        "\r\n",
        "    with tf.GradientTape() as tape:\r\n",
        "        predictions, _ = transformer(\r\n",
        "            inp, tar_inp, \r\n",
        "            True, \r\n",
        "            enc_padding_mask, \r\n",
        "            combined_mask, \r\n",
        "            dec_padding_mask\r\n",
        "        )\r\n",
        "        loss = loss_function(tar_real, predictions)\r\n",
        "\r\n",
        "    gradients = tape.gradient(loss, transformer.trainable_variables)    \r\n",
        "    optimizer.apply_gradients(zip(gradients, transformer.trainable_variables))\r\n",
        "\r\n",
        "    train_loss(loss)"
      ],
      "execution_count": null,
      "outputs": []
    },
    {
      "cell_type": "code",
      "metadata": {
        "colab": {
          "base_uri": "https://localhost:8080/"
        },
        "id": "bri97siLqRGJ",
        "outputId": "6331ec65-2806-4ccd-9f27-7661d78c33ec"
      },
      "source": [
        "for epoch in range(EPOCHS):\r\n",
        "    start = time.time()\r\n",
        "\r\n",
        "    train_loss.reset_states()\r\n",
        "  \r\n",
        "    for (batch, (inp, tar)) in enumerate(dataset):\r\n",
        "        train_step(inp, tar)\r\n",
        "    \r\n",
        "        # 55k samples\r\n",
        "        # we display 3 batch results -- 0th, middle and last one (approx)\r\n",
        "        # 55k / 64 ~ 858; 858 / 2 = 429\r\n",
        "        if batch % 429 == 0:\r\n",
        "            print ('Epoch {} Batch {} Loss {:.4f}'.format(epoch + 1, batch, train_loss.result()))\r\n",
        "      \r\n",
        "    if (epoch + 1) % 5 == 0:\r\n",
        "        ckpt_save_path = ckpt_manager.save()\r\n",
        "        print ('Saving checkpoint for epoch {} at {}'.format(epoch+1, ckpt_save_path))\r\n",
        "    \r\n",
        "    print ('Epoch {} Loss {:.4f}'.format(epoch + 1, train_loss.result()))\r\n",
        "\r\n",
        "    print ('Time taken for 1 epoch: {} secs\\n'.format(time.time() - start))"
      ],
      "execution_count": null,
      "outputs": [
        {
          "output_type": "stream",
          "text": [
            "Epoch 1 Batch 0 Loss 9.4078\n",
            "Epoch 1 Loss 9.4085\n",
            "Time taken for 1 epoch: 11.58475112915039 secs\n",
            "\n",
            "Epoch 2 Batch 0 Loss 9.3999\n",
            "Epoch 2 Loss 9.3842\n",
            "Time taken for 1 epoch: 2.4586567878723145 secs\n",
            "\n",
            "Epoch 3 Batch 0 Loss 9.3622\n",
            "Epoch 3 Loss 9.3421\n",
            "Time taken for 1 epoch: 2.471250534057617 secs\n",
            "\n",
            "Epoch 4 Batch 0 Loss 9.3161\n",
            "Epoch 4 Loss 9.2973\n",
            "Time taken for 1 epoch: 2.4404711723327637 secs\n",
            "\n",
            "Epoch 5 Batch 0 Loss 9.2742\n",
            "Saving checkpoint for epoch 5 at checkpoints/ckpt-1\n",
            "Epoch 5 Loss 9.2538\n",
            "Time taken for 1 epoch: 3.0279924869537354 secs\n",
            "\n",
            "Epoch 6 Batch 0 Loss 9.2311\n",
            "Epoch 6 Loss 9.2087\n",
            "Time taken for 1 epoch: 2.4492204189300537 secs\n",
            "\n",
            "Epoch 7 Batch 0 Loss 9.1807\n",
            "Epoch 7 Loss 9.1574\n",
            "Time taken for 1 epoch: 2.444852113723755 secs\n",
            "\n",
            "Epoch 8 Batch 0 Loss 9.1222\n",
            "Epoch 8 Loss 9.0981\n",
            "Time taken for 1 epoch: 2.4860548973083496 secs\n",
            "\n",
            "Epoch 9 Batch 0 Loss 9.0664\n",
            "Epoch 9 Loss 9.0308\n",
            "Time taken for 1 epoch: 2.4769673347473145 secs\n",
            "\n",
            "Epoch 10 Batch 0 Loss 8.9882\n",
            "Saving checkpoint for epoch 10 at checkpoints/ckpt-2\n",
            "Epoch 10 Loss 8.9552\n",
            "Time taken for 1 epoch: 3.0930585861206055 secs\n",
            "\n",
            "Epoch 11 Batch 0 Loss 8.9007\n",
            "Epoch 11 Loss 8.8725\n",
            "Time taken for 1 epoch: 2.4555788040161133 secs\n",
            "\n",
            "Epoch 12 Batch 0 Loss 8.8125\n",
            "Epoch 12 Loss 8.7849\n",
            "Time taken for 1 epoch: 2.4324333667755127 secs\n",
            "\n",
            "Epoch 13 Batch 0 Loss 8.7336\n",
            "Epoch 13 Loss 8.6918\n",
            "Time taken for 1 epoch: 2.4936537742614746 secs\n",
            "\n",
            "Epoch 14 Batch 0 Loss 8.6412\n",
            "Epoch 14 Loss 8.5961\n",
            "Time taken for 1 epoch: 2.480067491531372 secs\n",
            "\n",
            "Epoch 15 Batch 0 Loss 8.5429\n",
            "Saving checkpoint for epoch 15 at checkpoints/ckpt-3\n",
            "Epoch 15 Loss 8.4968\n",
            "Time taken for 1 epoch: 3.034867525100708 secs\n",
            "\n",
            "Epoch 16 Batch 0 Loss 8.4564\n",
            "Epoch 16 Loss 8.3942\n",
            "Time taken for 1 epoch: 2.481630563735962 secs\n",
            "\n",
            "Epoch 17 Batch 0 Loss 8.3284\n",
            "Epoch 17 Loss 8.2923\n",
            "Time taken for 1 epoch: 2.4831230640411377 secs\n",
            "\n",
            "Epoch 18 Batch 0 Loss 8.2528\n",
            "Epoch 18 Loss 8.1945\n",
            "Time taken for 1 epoch: 2.4539880752563477 secs\n",
            "\n",
            "Epoch 19 Batch 0 Loss 8.1048\n",
            "Epoch 19 Loss 8.0977\n",
            "Time taken for 1 epoch: 2.468287706375122 secs\n",
            "\n",
            "Epoch 20 Batch 0 Loss 8.0593\n",
            "Saving checkpoint for epoch 20 at checkpoints/ckpt-4\n",
            "Epoch 20 Loss 8.0071\n",
            "Time taken for 1 epoch: 3.0015106201171875 secs\n",
            "\n"
          ],
          "name": "stdout"
        }
      ]
    },
    {
      "cell_type": "code",
      "metadata": {
        "id": "hekF35o2qU1w"
      },
      "source": [
        ""
      ],
      "execution_count": null,
      "outputs": []
    }
  ]
}